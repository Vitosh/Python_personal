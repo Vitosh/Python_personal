{
 "cells": [
  {
   "cell_type": "markdown",
   "id": "39ee1e91-5b85-4399-af51-a97d9efafbf9",
   "metadata": {},
   "source": [
    "## Understanding Standard Deviation with Python"
   ]
  },
  {
   "cell_type": "markdown",
   "id": "157c93c7-48ce-4d36-b7c4-0b547d707359",
   "metadata": {},
   "source": [
    "$$\n",
    "\\sigma = \\sqrt{\\frac{\\sum (x_i - \\mu)^2}{N}}\n",
    "$$\n",
    "\n",
    "Where:\n",
    "- $\\sigma$ is the standard deviation.\n",
    "- $x_i$ are the data points.\n",
    "- $\\mu$ is the mean.\n",
    "- $N$ is the number of data points."
   ]
  },
  {
   "cell_type": "code",
   "execution_count": 23,
   "id": "1a55e77d-ba9f-4479-819f-befe1b56f9fa",
   "metadata": {},
   "outputs": [],
   "source": [
    "import statistics\n",
    "import math\n",
    "import numpy as np\n"
   ]
  },
  {
   "cell_type": "code",
   "execution_count": 33,
   "id": "6f2de394-6961-4349-bf0e-d4538ad2c33a",
   "metadata": {},
   "outputs": [],
   "source": [
    "# Generate the data\n",
    "data = [4,8,6,5,3]"
   ]
  },
  {
   "cell_type": "code",
   "execution_count": 28,
   "id": "18259cc6-dbbf-4044-8d8d-0abb7921f12f",
   "metadata": {},
   "outputs": [
    {
     "data": {
      "text/plain": [
       "5.2"
      ]
     },
     "execution_count": 28,
     "metadata": {},
     "output_type": "execute_result"
    }
   ],
   "source": [
    "# Get the mean of the data\n",
    "statistics.mean(data)"
   ]
  },
  {
   "cell_type": "code",
   "execution_count": 29,
   "id": "5ba9feb5-fb17-4afb-b77e-5f6072226533",
   "metadata": {},
   "outputs": [],
   "source": [
    "# For each number subtract the mean and square the result\n",
    "# a.k.a. producing squared differences\n",
    "\n",
    "squared_differences = []\n",
    "for number in data:\n",
    "    squared_difference = (number - statistics.mean(data))**2\n",
    "    squared_differences.append(squared_difference)"
   ]
  },
  {
   "cell_type": "code",
   "execution_count": 30,
   "id": "ad762da4-5372-40fc-b81e-da5c97cc51bf",
   "metadata": {},
   "outputs": [],
   "source": [
    "# Find the average of these squared differences\n",
    "avg_sq_diff = statistics.mean(squared_differences)"
   ]
  },
  {
   "cell_type": "code",
   "execution_count": 31,
   "id": "1944288c-f096-433d-b186-9bce5c2db8b3",
   "metadata": {},
   "outputs": [
    {
     "data": {
      "text/plain": [
       "1.7204650534085253"
      ]
     },
     "execution_count": 31,
     "metadata": {},
     "output_type": "execute_result"
    }
   ],
   "source": [
    "# Take the square root of the average:\n",
    "math.sqrt(avg_sq_diff)"
   ]
  },
  {
   "cell_type": "code",
   "execution_count": 32,
   "id": "a121a49d-ea05-43ee-876a-b7455ec19b4a",
   "metadata": {},
   "outputs": [
    {
     "data": {
      "text/plain": [
       "1.7204650534085253"
      ]
     },
     "execution_count": 32,
     "metadata": {},
     "output_type": "execute_result"
    }
   ],
   "source": [
    "# Or use np.std(data)\n",
    "np.std(data) "
   ]
  },
  {
   "cell_type": "code",
   "execution_count": null,
   "id": "4570f366-0bf2-442c-a133-93ae29e102b5",
   "metadata": {},
   "outputs": [],
   "source": []
  }
 ],
 "metadata": {
  "kernelspec": {
   "display_name": "Python 3 (ipykernel)",
   "language": "python",
   "name": "python3"
  },
  "language_info": {
   "codemirror_mode": {
    "name": "ipython",
    "version": 3
   },
   "file_extension": ".py",
   "mimetype": "text/x-python",
   "name": "python",
   "nbconvert_exporter": "python",
   "pygments_lexer": "ipython3",
   "version": "3.9.13"
  }
 },
 "nbformat": 4,
 "nbformat_minor": 5
}
