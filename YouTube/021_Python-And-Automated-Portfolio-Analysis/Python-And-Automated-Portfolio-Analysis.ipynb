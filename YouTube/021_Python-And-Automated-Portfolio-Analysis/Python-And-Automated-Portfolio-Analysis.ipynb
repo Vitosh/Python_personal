{
 "cells": [
  {
   "cell_type": "code",
   "execution_count": null,
   "id": "1787df47",
   "metadata": {},
   "outputs": [],
   "source": [
    "import os\n",
    "import pandas as pd\n",
    "import yfinance as yf\n",
    "from datetime import datetime\n",
    "import matplotlib.pyplot as plt\n",
    "import squarify"
   ]
  },
  {
   "cell_type": "code",
   "execution_count": null,
   "id": "32d8ce72",
   "metadata": {},
   "outputs": [],
   "source": [
    "INPUT_FILE = os.path.join('input', 'stocks.csv')\n",
    "OUTPUT_DIR = 'output'\n",
    "\n",
    "os.makedirs(OUTPUT_DIR, exist_ok = True)"
   ]
  },
  {
   "cell_type": "code",
   "execution_count": null,
   "id": "cb978551",
   "metadata": {
    "scrolled": false
   },
   "outputs": [],
   "source": [
    "stock = yf.Ticker('F')\n",
    "info = stock.info\n",
    "counter = 1\n",
    "for key, value in info.items():\n",
    "    counter = counter + 1\n",
    "    if counter < 10:\n",
    "        print(f'{key} - {value}')"
   ]
  },
  {
   "cell_type": "code",
   "execution_count": null,
   "id": "be023497",
   "metadata": {},
   "outputs": [],
   "source": [
    "try:\n",
    "    # Read the CSV file\n",
    "    df = pd.read_csv(INPUT_FILE)\n",
    "    \n",
    "    # Fetch stock data and add new columns\n",
    "    industries = []\n",
    "    for index, row in df.iterrows():\n",
    "        try:\n",
    "            stock = yf.Ticker(row['Ticker'])\n",
    "            info = stock.info\n",
    "            price = info.get('regularMarketPreviousClose',0)   # Default to 0 if key is missing\n",
    "            dividend = info.get('dividendRate', 0)             # Default to 0 if key is missing\n",
    "            industry = info.get('industry', 'Unknown')         # Default to 'Unknown' if key is missing\n",
    "            short_name = info.get('shortName','Unknown')\n",
    "        \n",
    "        except Exception as e:\n",
    "            print(f\"Error fetching data for {row['Ticker']}: {e}\")\n",
    "            price = 0.0\n",
    "            dividend = 0.0\n",
    "            industry = 'Unknown'\n",
    "\n",
    "        df.at[index,'Price'] = price\n",
    "        df.at[index, 'Dividend'] = dividend\n",
    "        df.at[index, 'Name']= short_name\n",
    "        industries.append(industry)\n",
    "    \n",
    "    # Add industries to the DataFrame\n",
    "    df['Industry'] = industries\n",
    "\n",
    "    # Calculate total investment and expected annual dividends\n",
    "    df['Total Investment'] = (df['Shares']*df['Price']).round(0)\n",
    "    df['Expected Dividends'] = (df['Shares']*df['Dividend']).round(2)\n",
    "\n",
    "    #Add \"SUM\" row at the bottom of the DataFrame\n",
    "    sum_row = {\n",
    "        'Ticker':'SUM',\n",
    "        'Shares':'',\n",
    "        'Price':'',\n",
    "        'Dividend':'',\n",
    "        'Industry':'',\n",
    "        'Total Investment':df['Total Investment'].sum().round(0),\n",
    "        'Expected Dividends':df['Expected Dividends'].sum().round(0),\n",
    "    }\n",
    "\n",
    "    df = pd.concat([df, pd.DataFrame([sum_row])], ignore_index = True)\n",
    "    \n",
    "    # Generate file name with today's date and time\n",
    "    output_name = datetime.now().strftime('%Y%m%d_%H%M%S')\n",
    "    output_file = os.path.join(OUTPUT_DIR, f'{output_name}_updated_stocks.csv')\n",
    "\n",
    "    # Save the updated DataFrame to a new CSV file\n",
    "    df.to_csv(output_file, index=False)\n",
    "    print(f'Data saved to {output_file}')\n",
    "    \n",
    "except FileNotFoundError:\n",
    "    print(f'Error: The file {INPUT_FILE} was not found.')\n",
    "except Exception as e:\n",
    "    print(f'Error: An unexpected error has occurred {e}!')"
   ]
  },
  {
   "cell_type": "code",
   "execution_count": null,
   "id": "a8168bef",
   "metadata": {},
   "outputs": [],
   "source": [
    "df"
   ]
  },
  {
   "cell_type": "code",
   "execution_count": null,
   "id": "d484c0dd",
   "metadata": {},
   "outputs": [],
   "source": [
    "# Generate a pie chart for industries\n",
    "\n",
    "today = datetime.now().strftime('%Y%m%d')\n",
    "\n",
    "industry_data = df[df['Ticker'] != 'SUM'].groupby('Industry')['Total Investment'].sum()\n",
    "plt.figure(figsize=(8, 8))\n",
    "plt.pie(industry_data, labels=industry_data.index, autopct='%1.1f%%', startangle=140)\n",
    "plt.title('Investment Distribution by Industry')\n",
    "plt.savefig(os.path.join(OUTPUT_DIR, f'{today}_industry_distribution.png'))\n",
    "print(\"Industry distribution chart saved.\")\n",
    "print(f'{today}_industry_distribution.png')"
   ]
  },
  {
   "cell_type": "code",
   "execution_count": null,
   "id": "bde0005b",
   "metadata": {},
   "outputs": [],
   "source": [
    "# Generate a treemap for investment sizes with a custom colormap\n",
    "investment_data = df[df['Ticker'] != 'SUM']\n",
    "plt.figure(figsize=(12, 8))\n",
    "cmap = plt.colormaps['tab20']  # Accessing 'tab20' colormap\n",
    "colors = [cmap(i) for i in range(len(investment_data))]  # Generate distinct colors\n",
    "\n",
    "squarify.plot(\n",
    "    sizes=investment_data['Total Investment'], \n",
    "    label=investment_data['Ticker'], \n",
    "    alpha=0.8,\n",
    "    color=colors  # Pass the custom colors here\n",
    ")\n",
    "plt.title('Investment Proportion by Ticker')\n",
    "plt.axis('off')  # Hide axes for treemap\n",
    "plt.savefig(os.path.join(OUTPUT_DIR, f'{today}_investment_treemap.png'))\n",
    "print(f\"Investment treemap chart saved.\\n{today}_investment_treemap.png\")"
   ]
  }
 ],
 "metadata": {
  "kernelspec": {
   "display_name": "Python 3 (ipykernel)",
   "language": "python",
   "name": "python3"
  },
  "language_info": {
   "codemirror_mode": {
    "name": "ipython",
    "version": 3
   },
   "file_extension": ".py",
   "mimetype": "text/x-python",
   "name": "python",
   "nbconvert_exporter": "python",
   "pygments_lexer": "ipython3",
   "version": "3.9.13"
  }
 },
 "nbformat": 4,
 "nbformat_minor": 5
}
