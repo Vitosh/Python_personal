{
 "cells": [
  {
   "cell_type": "code",
   "execution_count": 1,
   "id": "ec4019a3",
   "metadata": {},
   "outputs": [],
   "source": [
    "import sqlite3\n",
    "import pandas as pd\n",
    "import numpy as np"
   ]
  },
  {
   "cell_type": "code",
   "execution_count": 2,
   "id": "557c7a3c",
   "metadata": {},
   "outputs": [],
   "source": [
    "conn = sqlite3.connect(\":memory:\")\n",
    "cur = conn.cursor()"
   ]
  },
  {
   "cell_type": "code",
   "execution_count": 3,
   "id": "4e81b211",
   "metadata": {},
   "outputs": [],
   "source": [
    "cur.executescript(\"\"\"\n",
    "DROP TABLE IF EXISTS teams;\n",
    "DROP TABLE IF EXISTS players;\n",
    "DROP TABLE IF EXISTS matches;\n",
    "\n",
    "CREATE TABLE teams (\n",
    "  team    TEXT PRIMARY KEY,\n",
    "  city    TEXT NOT NULL,\n",
    "  founded INTEGER NOT NULL\n",
    ");\n",
    "\n",
    "CREATE TABLE players (\n",
    "  player_id INTEGER PRIMARY KEY AUTOINCREMENT,\n",
    "  name   TEXT NOT NULL,\n",
    "  team   TEXT NOT NULL REFERENCES teams(team),\n",
    "  pos    TEXT NOT NULL,\n",
    "  age    INTEGER NOT NULL,\n",
    "  goals  INTEGER NOT NULL,\n",
    "  assists INTEGER,\n",
    "  minutes INTEGER NOT NULL\n",
    ");\n",
    "\n",
    "CREATE TABLE matches (\n",
    "  match_id   INTEGER PRIMARY KEY AUTOINCREMENT,\n",
    "  date       TEXT NOT NULL,\n",
    "  home       TEXT NOT NULL,\n",
    "  away       TEXT NOT NULL,\n",
    "  home_goals INTEGER NOT NULL,\n",
    "  away_goals INTEGER NOT NULL\n",
    ");\n",
    "\n",
    "INSERT INTO teams(team, city, founded) VALUES\n",
    " ('Lions','Sofia', 2015),\n",
    " ('Wolves','Plovdiv',1914),\n",
    " ('Eagles','Varna',1930);\n",
    "\n",
    "INSERT INTO players(name, team, pos, age, goals, assists, minutes) VALUES\n",
    " ('Ivan Petrov','Lions','FW',24,11,3,1350),\n",
    " ('Martin Kolev','Lions','MF',29,4,NULL,1490),\n",
    " ('Rui Costa','Lions','DF',31,1,2,1600),\n",
    " ('Georgi Iliev','Wolves','FW',27,7,5,1410),\n",
    " ('Joe Jackson','Wolves','FW',27,17,5,410),\n",
    " ('Peter Marin','Eagles','FW',20,5,1,870);\n",
    "\n",
    "INSERT INTO matches(date,home,away,home_goals,away_goals) VALUES\n",
    " ('2024-08-03','Lions','Wolves',2,1),\n",
    " ('2024-08-10','Eagles','Lions',1,3),\n",
    " ('2024-08-17','Wolves','Eagles',2,2);\n",
    "\"\"\")\n",
    "conn.commit()"
   ]
  },
  {
   "cell_type": "code",
   "execution_count": 4,
   "id": "98a7930f",
   "metadata": {},
   "outputs": [],
   "source": [
    "teams = pd.read_sql(\"SELECT * FROM teams\", conn)\n",
    "players = pd.read_sql(\"SELECT * FROM players\", conn)\n",
    "matches = pd.read_sql(\"SELECT * FROM matches\", conn, parse_dates = [\"date\"])"
   ]
  },
  {
   "cell_type": "code",
   "execution_count": 5,
   "id": "8bf8de12",
   "metadata": {},
   "outputs": [
    {
     "data": {
      "text/html": [
       "<div>\n",
       "<style scoped>\n",
       "    .dataframe tbody tr th:only-of-type {\n",
       "        vertical-align: middle;\n",
       "    }\n",
       "\n",
       "    .dataframe tbody tr th {\n",
       "        vertical-align: top;\n",
       "    }\n",
       "\n",
       "    .dataframe thead th {\n",
       "        text-align: right;\n",
       "    }\n",
       "</style>\n",
       "<table border=\"1\" class=\"dataframe\">\n",
       "  <thead>\n",
       "    <tr style=\"text-align: right;\">\n",
       "      <th></th>\n",
       "      <th>player_id</th>\n",
       "      <th>name</th>\n",
       "      <th>team</th>\n",
       "      <th>pos</th>\n",
       "      <th>age</th>\n",
       "      <th>goals</th>\n",
       "      <th>assists</th>\n",
       "      <th>minutes</th>\n",
       "    </tr>\n",
       "  </thead>\n",
       "  <tbody>\n",
       "    <tr>\n",
       "      <th>0</th>\n",
       "      <td>1</td>\n",
       "      <td>Ivan Petrov</td>\n",
       "      <td>Lions</td>\n",
       "      <td>FW</td>\n",
       "      <td>24</td>\n",
       "      <td>11</td>\n",
       "      <td>3.0</td>\n",
       "      <td>1350</td>\n",
       "    </tr>\n",
       "    <tr>\n",
       "      <th>1</th>\n",
       "      <td>2</td>\n",
       "      <td>Martin Kolev</td>\n",
       "      <td>Lions</td>\n",
       "      <td>MF</td>\n",
       "      <td>29</td>\n",
       "      <td>4</td>\n",
       "      <td>NaN</td>\n",
       "      <td>1490</td>\n",
       "    </tr>\n",
       "    <tr>\n",
       "      <th>2</th>\n",
       "      <td>3</td>\n",
       "      <td>Rui Costa</td>\n",
       "      <td>Lions</td>\n",
       "      <td>DF</td>\n",
       "      <td>31</td>\n",
       "      <td>1</td>\n",
       "      <td>2.0</td>\n",
       "      <td>1600</td>\n",
       "    </tr>\n",
       "    <tr>\n",
       "      <th>3</th>\n",
       "      <td>4</td>\n",
       "      <td>Georgi Iliev</td>\n",
       "      <td>Wolves</td>\n",
       "      <td>FW</td>\n",
       "      <td>27</td>\n",
       "      <td>7</td>\n",
       "      <td>5.0</td>\n",
       "      <td>1410</td>\n",
       "    </tr>\n",
       "    <tr>\n",
       "      <th>4</th>\n",
       "      <td>5</td>\n",
       "      <td>Joe Jackson</td>\n",
       "      <td>Wolves</td>\n",
       "      <td>FW</td>\n",
       "      <td>27</td>\n",
       "      <td>17</td>\n",
       "      <td>5.0</td>\n",
       "      <td>410</td>\n",
       "    </tr>\n",
       "  </tbody>\n",
       "</table>\n",
       "</div>"
      ],
      "text/plain": [
       "   player_id          name    team pos  age  goals  assists  minutes\n",
       "0          1   Ivan Petrov   Lions  FW   24     11      3.0     1350\n",
       "1          2  Martin Kolev   Lions  MF   29      4      NaN     1490\n",
       "2          3     Rui Costa   Lions  DF   31      1      2.0     1600\n",
       "3          4  Georgi Iliev  Wolves  FW   27      7      5.0     1410\n",
       "4          5   Joe Jackson  Wolves  FW   27     17      5.0      410"
      ]
     },
     "execution_count": 5,
     "metadata": {},
     "output_type": "execute_result"
    }
   ],
   "source": [
    "players.head()"
   ]
  },
  {
   "cell_type": "code",
   "execution_count": 6,
   "id": "ca25634a",
   "metadata": {},
   "outputs": [
    {
     "data": {
      "text/html": [
       "<div>\n",
       "<style scoped>\n",
       "    .dataframe tbody tr th:only-of-type {\n",
       "        vertical-align: middle;\n",
       "    }\n",
       "\n",
       "    .dataframe tbody tr th {\n",
       "        vertical-align: top;\n",
       "    }\n",
       "\n",
       "    .dataframe thead th {\n",
       "        text-align: right;\n",
       "    }\n",
       "</style>\n",
       "<table border=\"1\" class=\"dataframe\">\n",
       "  <thead>\n",
       "    <tr style=\"text-align: right;\">\n",
       "      <th></th>\n",
       "      <th>team</th>\n",
       "      <th>city</th>\n",
       "      <th>founded</th>\n",
       "    </tr>\n",
       "  </thead>\n",
       "  <tbody>\n",
       "    <tr>\n",
       "      <th>0</th>\n",
       "      <td>Lions</td>\n",
       "      <td>Sofia</td>\n",
       "      <td>2015</td>\n",
       "    </tr>\n",
       "    <tr>\n",
       "      <th>1</th>\n",
       "      <td>Wolves</td>\n",
       "      <td>Plovdiv</td>\n",
       "      <td>1914</td>\n",
       "    </tr>\n",
       "    <tr>\n",
       "      <th>2</th>\n",
       "      <td>Eagles</td>\n",
       "      <td>Varna</td>\n",
       "      <td>1930</td>\n",
       "    </tr>\n",
       "  </tbody>\n",
       "</table>\n",
       "</div>"
      ],
      "text/plain": [
       "     team     city  founded\n",
       "0   Lions    Sofia     2015\n",
       "1  Wolves  Plovdiv     1914\n",
       "2  Eagles    Varna     1930"
      ]
     },
     "execution_count": 6,
     "metadata": {},
     "output_type": "execute_result"
    }
   ],
   "source": [
    "teams.head()#, matches.head(), players.head()"
   ]
  },
  {
   "cell_type": "code",
   "execution_count": 7,
   "id": "7b0075d3",
   "metadata": {},
   "outputs": [],
   "source": [
    "#SQL vs Pandas - Filtering"
   ]
  },
  {
   "cell_type": "code",
   "execution_count": 8,
   "id": "781771c0",
   "metadata": {},
   "outputs": [],
   "source": [
    "sql1 = pd.read_sql(\"\"\"\n",
    "SELECT name, team, goals\n",
    "FROM players\n",
    "WHERE pos = 'FW' AND minutes > 1200;\n",
    "\"\"\", conn)                   "
   ]
  },
  {
   "cell_type": "code",
   "execution_count": 9,
   "id": "cd14243d",
   "metadata": {},
   "outputs": [
    {
     "data": {
      "text/html": [
       "<div>\n",
       "<style scoped>\n",
       "    .dataframe tbody tr th:only-of-type {\n",
       "        vertical-align: middle;\n",
       "    }\n",
       "\n",
       "    .dataframe tbody tr th {\n",
       "        vertical-align: top;\n",
       "    }\n",
       "\n",
       "    .dataframe thead th {\n",
       "        text-align: right;\n",
       "    }\n",
       "</style>\n",
       "<table border=\"1\" class=\"dataframe\">\n",
       "  <thead>\n",
       "    <tr style=\"text-align: right;\">\n",
       "      <th></th>\n",
       "      <th>name</th>\n",
       "      <th>team</th>\n",
       "      <th>goals</th>\n",
       "    </tr>\n",
       "  </thead>\n",
       "  <tbody>\n",
       "    <tr>\n",
       "      <th>0</th>\n",
       "      <td>Ivan Petrov</td>\n",
       "      <td>Lions</td>\n",
       "      <td>11</td>\n",
       "    </tr>\n",
       "    <tr>\n",
       "      <th>1</th>\n",
       "      <td>Georgi Iliev</td>\n",
       "      <td>Wolves</td>\n",
       "      <td>7</td>\n",
       "    </tr>\n",
       "  </tbody>\n",
       "</table>\n",
       "</div>"
      ],
      "text/plain": [
       "           name    team  goals\n",
       "0   Ivan Petrov   Lions     11\n",
       "1  Georgi Iliev  Wolves      7"
      ]
     },
     "execution_count": 9,
     "metadata": {},
     "output_type": "execute_result"
    }
   ],
   "source": [
    "sql1"
   ]
  },
  {
   "cell_type": "code",
   "execution_count": 10,
   "id": "8fc12a58",
   "metadata": {},
   "outputs": [],
   "source": [
    "pd1 = players.loc[(players['pos']=='FW')&(players[\"minutes\"]>1200),[\"name\", \"team\", \"goals\"]]"
   ]
  },
  {
   "cell_type": "code",
   "execution_count": 11,
   "id": "aaf6c12b",
   "metadata": {},
   "outputs": [
    {
     "data": {
      "text/html": [
       "<div>\n",
       "<style scoped>\n",
       "    .dataframe tbody tr th:only-of-type {\n",
       "        vertical-align: middle;\n",
       "    }\n",
       "\n",
       "    .dataframe tbody tr th {\n",
       "        vertical-align: top;\n",
       "    }\n",
       "\n",
       "    .dataframe thead th {\n",
       "        text-align: right;\n",
       "    }\n",
       "</style>\n",
       "<table border=\"1\" class=\"dataframe\">\n",
       "  <thead>\n",
       "    <tr style=\"text-align: right;\">\n",
       "      <th></th>\n",
       "      <th>name</th>\n",
       "      <th>team</th>\n",
       "      <th>goals</th>\n",
       "    </tr>\n",
       "  </thead>\n",
       "  <tbody>\n",
       "    <tr>\n",
       "      <th>0</th>\n",
       "      <td>Ivan Petrov</td>\n",
       "      <td>Lions</td>\n",
       "      <td>11</td>\n",
       "    </tr>\n",
       "    <tr>\n",
       "      <th>3</th>\n",
       "      <td>Georgi Iliev</td>\n",
       "      <td>Wolves</td>\n",
       "      <td>7</td>\n",
       "    </tr>\n",
       "  </tbody>\n",
       "</table>\n",
       "</div>"
      ],
      "text/plain": [
       "           name    team  goals\n",
       "0   Ivan Petrov   Lions     11\n",
       "3  Georgi Iliev  Wolves      7"
      ]
     },
     "execution_count": 11,
     "metadata": {},
     "output_type": "execute_result"
    }
   ],
   "source": [
    "pd1"
   ]
  },
  {
   "cell_type": "code",
   "execution_count": 12,
   "id": "be408345",
   "metadata": {},
   "outputs": [],
   "source": [
    "# Aggregation - Total goals per team"
   ]
  },
  {
   "cell_type": "code",
   "execution_count": 13,
   "id": "fe4e421a",
   "metadata": {},
   "outputs": [],
   "source": [
    "sql2 = pd.read_sql(\"\"\"\n",
    "SELECT team, SUM(goals)\n",
    "FROM players\n",
    "GROUP BY team\n",
    "ORDER BY 2 DESC;\n",
    "\"\"\", conn)                   "
   ]
  },
  {
   "cell_type": "code",
   "execution_count": 14,
   "id": "83c055bb",
   "metadata": {},
   "outputs": [
    {
     "data": {
      "text/html": [
       "<div>\n",
       "<style scoped>\n",
       "    .dataframe tbody tr th:only-of-type {\n",
       "        vertical-align: middle;\n",
       "    }\n",
       "\n",
       "    .dataframe tbody tr th {\n",
       "        vertical-align: top;\n",
       "    }\n",
       "\n",
       "    .dataframe thead th {\n",
       "        text-align: right;\n",
       "    }\n",
       "</style>\n",
       "<table border=\"1\" class=\"dataframe\">\n",
       "  <thead>\n",
       "    <tr style=\"text-align: right;\">\n",
       "      <th></th>\n",
       "      <th>team</th>\n",
       "      <th>SUM(goals)</th>\n",
       "    </tr>\n",
       "  </thead>\n",
       "  <tbody>\n",
       "    <tr>\n",
       "      <th>0</th>\n",
       "      <td>Wolves</td>\n",
       "      <td>24</td>\n",
       "    </tr>\n",
       "    <tr>\n",
       "      <th>1</th>\n",
       "      <td>Lions</td>\n",
       "      <td>16</td>\n",
       "    </tr>\n",
       "    <tr>\n",
       "      <th>2</th>\n",
       "      <td>Eagles</td>\n",
       "      <td>5</td>\n",
       "    </tr>\n",
       "  </tbody>\n",
       "</table>\n",
       "</div>"
      ],
      "text/plain": [
       "     team  SUM(goals)\n",
       "0  Wolves          24\n",
       "1   Lions          16\n",
       "2  Eagles           5"
      ]
     },
     "execution_count": 14,
     "metadata": {},
     "output_type": "execute_result"
    }
   ],
   "source": [
    "sql2"
   ]
  },
  {
   "cell_type": "code",
   "execution_count": 15,
   "id": "6fa25867",
   "metadata": {},
   "outputs": [],
   "source": [
    "pd2 = players.groupby(\"team\")[\"goals\"].sum().reset_index()"
   ]
  },
  {
   "cell_type": "code",
   "execution_count": 16,
   "id": "650e089c",
   "metadata": {},
   "outputs": [
    {
     "data": {
      "text/html": [
       "<div>\n",
       "<style scoped>\n",
       "    .dataframe tbody tr th:only-of-type {\n",
       "        vertical-align: middle;\n",
       "    }\n",
       "\n",
       "    .dataframe tbody tr th {\n",
       "        vertical-align: top;\n",
       "    }\n",
       "\n",
       "    .dataframe thead th {\n",
       "        text-align: right;\n",
       "    }\n",
       "</style>\n",
       "<table border=\"1\" class=\"dataframe\">\n",
       "  <thead>\n",
       "    <tr style=\"text-align: right;\">\n",
       "      <th></th>\n",
       "      <th>team</th>\n",
       "      <th>goals</th>\n",
       "    </tr>\n",
       "  </thead>\n",
       "  <tbody>\n",
       "    <tr>\n",
       "      <th>0</th>\n",
       "      <td>Wolves</td>\n",
       "      <td>24</td>\n",
       "    </tr>\n",
       "    <tr>\n",
       "      <th>1</th>\n",
       "      <td>Lions</td>\n",
       "      <td>16</td>\n",
       "    </tr>\n",
       "    <tr>\n",
       "      <th>2</th>\n",
       "      <td>Eagles</td>\n",
       "      <td>5</td>\n",
       "    </tr>\n",
       "  </tbody>\n",
       "</table>\n",
       "</div>"
      ],
      "text/plain": [
       "     team  goals\n",
       "0  Wolves     24\n",
       "1   Lions     16\n",
       "2  Eagles      5"
      ]
     },
     "execution_count": 16,
     "metadata": {},
     "output_type": "execute_result"
    }
   ],
   "source": [
    "pd2.sort_values(\"goals\", ascending = False).reset_index(drop=True)"
   ]
  },
  {
   "cell_type": "code",
   "execution_count": 17,
   "id": "9628efac",
   "metadata": {},
   "outputs": [],
   "source": [
    "# Join and Merge"
   ]
  },
  {
   "cell_type": "code",
   "execution_count": 18,
   "id": "018aec13",
   "metadata": {},
   "outputs": [],
   "source": [
    "sql3 = pd.read_sql(\"\"\"\n",
    "SELECT p.name, t.city\n",
    "FROM players p\n",
    "JOIN teams t on t.team = p.team;\n",
    "\"\"\", conn)                   "
   ]
  },
  {
   "cell_type": "code",
   "execution_count": 19,
   "id": "0b66b291",
   "metadata": {},
   "outputs": [
    {
     "data": {
      "text/html": [
       "<div>\n",
       "<style scoped>\n",
       "    .dataframe tbody tr th:only-of-type {\n",
       "        vertical-align: middle;\n",
       "    }\n",
       "\n",
       "    .dataframe tbody tr th {\n",
       "        vertical-align: top;\n",
       "    }\n",
       "\n",
       "    .dataframe thead th {\n",
       "        text-align: right;\n",
       "    }\n",
       "</style>\n",
       "<table border=\"1\" class=\"dataframe\">\n",
       "  <thead>\n",
       "    <tr style=\"text-align: right;\">\n",
       "      <th></th>\n",
       "      <th>name</th>\n",
       "      <th>city</th>\n",
       "    </tr>\n",
       "  </thead>\n",
       "  <tbody>\n",
       "    <tr>\n",
       "      <th>0</th>\n",
       "      <td>Ivan Petrov</td>\n",
       "      <td>Sofia</td>\n",
       "    </tr>\n",
       "    <tr>\n",
       "      <th>1</th>\n",
       "      <td>Martin Kolev</td>\n",
       "      <td>Sofia</td>\n",
       "    </tr>\n",
       "    <tr>\n",
       "      <th>2</th>\n",
       "      <td>Rui Costa</td>\n",
       "      <td>Sofia</td>\n",
       "    </tr>\n",
       "    <tr>\n",
       "      <th>3</th>\n",
       "      <td>Georgi Iliev</td>\n",
       "      <td>Plovdiv</td>\n",
       "    </tr>\n",
       "    <tr>\n",
       "      <th>4</th>\n",
       "      <td>Joe Jackson</td>\n",
       "      <td>Plovdiv</td>\n",
       "    </tr>\n",
       "    <tr>\n",
       "      <th>5</th>\n",
       "      <td>Peter Marin</td>\n",
       "      <td>Varna</td>\n",
       "    </tr>\n",
       "  </tbody>\n",
       "</table>\n",
       "</div>"
      ],
      "text/plain": [
       "           name     city\n",
       "0   Ivan Petrov    Sofia\n",
       "1  Martin Kolev    Sofia\n",
       "2     Rui Costa    Sofia\n",
       "3  Georgi Iliev  Plovdiv\n",
       "4   Joe Jackson  Plovdiv\n",
       "5   Peter Marin    Varna"
      ]
     },
     "execution_count": 19,
     "metadata": {},
     "output_type": "execute_result"
    }
   ],
   "source": [
    "sql3"
   ]
  },
  {
   "cell_type": "code",
   "execution_count": 20,
   "id": "e99cce54",
   "metadata": {},
   "outputs": [],
   "source": [
    "pd3 = players.merge(teams, on=\"team\", how=\"left\")"
   ]
  },
  {
   "cell_type": "code",
   "execution_count": 21,
   "id": "55d26f50",
   "metadata": {},
   "outputs": [
    {
     "data": {
      "text/html": [
       "<div>\n",
       "<style scoped>\n",
       "    .dataframe tbody tr th:only-of-type {\n",
       "        vertical-align: middle;\n",
       "    }\n",
       "\n",
       "    .dataframe tbody tr th {\n",
       "        vertical-align: top;\n",
       "    }\n",
       "\n",
       "    .dataframe thead th {\n",
       "        text-align: right;\n",
       "    }\n",
       "</style>\n",
       "<table border=\"1\" class=\"dataframe\">\n",
       "  <thead>\n",
       "    <tr style=\"text-align: right;\">\n",
       "      <th></th>\n",
       "      <th>name</th>\n",
       "      <th>city</th>\n",
       "    </tr>\n",
       "  </thead>\n",
       "  <tbody>\n",
       "    <tr>\n",
       "      <th>0</th>\n",
       "      <td>Ivan Petrov</td>\n",
       "      <td>Sofia</td>\n",
       "    </tr>\n",
       "    <tr>\n",
       "      <th>1</th>\n",
       "      <td>Martin Kolev</td>\n",
       "      <td>Sofia</td>\n",
       "    </tr>\n",
       "    <tr>\n",
       "      <th>2</th>\n",
       "      <td>Rui Costa</td>\n",
       "      <td>Sofia</td>\n",
       "    </tr>\n",
       "    <tr>\n",
       "      <th>3</th>\n",
       "      <td>Georgi Iliev</td>\n",
       "      <td>Plovdiv</td>\n",
       "    </tr>\n",
       "    <tr>\n",
       "      <th>4</th>\n",
       "      <td>Joe Jackson</td>\n",
       "      <td>Plovdiv</td>\n",
       "    </tr>\n",
       "    <tr>\n",
       "      <th>5</th>\n",
       "      <td>Peter Marin</td>\n",
       "      <td>Varna</td>\n",
       "    </tr>\n",
       "  </tbody>\n",
       "</table>\n",
       "</div>"
      ],
      "text/plain": [
       "           name     city\n",
       "0   Ivan Petrov    Sofia\n",
       "1  Martin Kolev    Sofia\n",
       "2     Rui Costa    Sofia\n",
       "3  Georgi Iliev  Plovdiv\n",
       "4   Joe Jackson  Plovdiv\n",
       "5   Peter Marin    Varna"
      ]
     },
     "execution_count": 21,
     "metadata": {},
     "output_type": "execute_result"
    }
   ],
   "source": [
    "pd3[[\"name\", \"city\"]]"
   ]
  },
  {
   "cell_type": "code",
   "execution_count": 22,
   "id": "b0cc68ee",
   "metadata": {},
   "outputs": [],
   "source": [
    "m = matches.copy()"
   ]
  },
  {
   "cell_type": "code",
   "execution_count": 23,
   "id": "ca6f3bd5",
   "metadata": {},
   "outputs": [
    {
     "data": {
      "text/html": [
       "<div>\n",
       "<style scoped>\n",
       "    .dataframe tbody tr th:only-of-type {\n",
       "        vertical-align: middle;\n",
       "    }\n",
       "\n",
       "    .dataframe tbody tr th {\n",
       "        vertical-align: top;\n",
       "    }\n",
       "\n",
       "    .dataframe thead th {\n",
       "        text-align: right;\n",
       "    }\n",
       "</style>\n",
       "<table border=\"1\" class=\"dataframe\">\n",
       "  <thead>\n",
       "    <tr style=\"text-align: right;\">\n",
       "      <th></th>\n",
       "      <th>match_id</th>\n",
       "      <th>date</th>\n",
       "      <th>home</th>\n",
       "      <th>away</th>\n",
       "      <th>home_goals</th>\n",
       "      <th>away_goals</th>\n",
       "    </tr>\n",
       "  </thead>\n",
       "  <tbody>\n",
       "    <tr>\n",
       "      <th>0</th>\n",
       "      <td>1</td>\n",
       "      <td>2024-08-03</td>\n",
       "      <td>Lions</td>\n",
       "      <td>Wolves</td>\n",
       "      <td>2</td>\n",
       "      <td>1</td>\n",
       "    </tr>\n",
       "    <tr>\n",
       "      <th>1</th>\n",
       "      <td>2</td>\n",
       "      <td>2024-08-10</td>\n",
       "      <td>Eagles</td>\n",
       "      <td>Lions</td>\n",
       "      <td>1</td>\n",
       "      <td>3</td>\n",
       "    </tr>\n",
       "    <tr>\n",
       "      <th>2</th>\n",
       "      <td>3</td>\n",
       "      <td>2024-08-17</td>\n",
       "      <td>Wolves</td>\n",
       "      <td>Eagles</td>\n",
       "      <td>2</td>\n",
       "      <td>2</td>\n",
       "    </tr>\n",
       "  </tbody>\n",
       "</table>\n",
       "</div>"
      ],
      "text/plain": [
       "   match_id       date    home    away  home_goals  away_goals\n",
       "0         1 2024-08-03   Lions  Wolves           2           1\n",
       "1         2 2024-08-10  Eagles   Lions           1           3\n",
       "2         3 2024-08-17  Wolves  Eagles           2           2"
      ]
     },
     "execution_count": 23,
     "metadata": {},
     "output_type": "execute_result"
    }
   ],
   "source": [
    "m"
   ]
  },
  {
   "cell_type": "code",
   "execution_count": 24,
   "id": "35564982",
   "metadata": {},
   "outputs": [
    {
     "data": {
      "text/html": [
       "<div>\n",
       "<style scoped>\n",
       "    .dataframe tbody tr th:only-of-type {\n",
       "        vertical-align: middle;\n",
       "    }\n",
       "\n",
       "    .dataframe tbody tr th {\n",
       "        vertical-align: top;\n",
       "    }\n",
       "\n",
       "    .dataframe thead th {\n",
       "        text-align: right;\n",
       "    }\n",
       "</style>\n",
       "<table border=\"1\" class=\"dataframe\">\n",
       "  <thead>\n",
       "    <tr style=\"text-align: right;\">\n",
       "      <th></th>\n",
       "      <th>points</th>\n",
       "      <th>GF</th>\n",
       "      <th>GA</th>\n",
       "      <th>GD</th>\n",
       "    </tr>\n",
       "    <tr>\n",
       "      <th>team</th>\n",
       "      <th></th>\n",
       "      <th></th>\n",
       "      <th></th>\n",
       "      <th></th>\n",
       "    </tr>\n",
       "  </thead>\n",
       "  <tbody>\n",
       "    <tr>\n",
       "      <th>Lions</th>\n",
       "      <td>6</td>\n",
       "      <td>5</td>\n",
       "      <td>2</td>\n",
       "      <td>3</td>\n",
       "    </tr>\n",
       "    <tr>\n",
       "      <th>Wolves</th>\n",
       "      <td>1</td>\n",
       "      <td>3</td>\n",
       "      <td>4</td>\n",
       "      <td>-1</td>\n",
       "    </tr>\n",
       "    <tr>\n",
       "      <th>Eagles</th>\n",
       "      <td>1</td>\n",
       "      <td>3</td>\n",
       "      <td>5</td>\n",
       "      <td>-2</td>\n",
       "    </tr>\n",
       "  </tbody>\n",
       "</table>\n",
       "</div>"
      ],
      "text/plain": [
       "        points  GF  GA  GD\n",
       "team                      \n",
       "Lions        6   5   2   3\n",
       "Wolves       1   3   4  -1\n",
       "Eagles       1   3   5  -2"
      ]
     },
     "execution_count": 24,
     "metadata": {},
     "output_type": "execute_result"
    }
   ],
   "source": [
    "m[\"home_points\"] = np.where(m[\"home_goals\"]>m[\"away_goals\"],3,\n",
    "                     np.where(m[\"home_goals\"]==m[\"away_goals\"],1,0))\n",
    "m[\"away_points\"] = np.where(m[\"away_goals\"]>m[\"home_goals\"],3,\n",
    "                     np.where(m[\"away_goals\"]==m[\"home_goals\"],1,0))\n",
    "\n",
    "home_tbl = m[[\"home\",\"home_points\",\"home_goals\",\"away_goals\"]] \\\n",
    "              .rename(columns={\"home\":\"team\",\"home_points\":\"points\",\"home_goals\":\"gf\",\"away_goals\":\"ga\"})\n",
    "away_tbl = m[[\"away\",\"away_points\",\"away_goals\",\"home_goals\"]] \\\n",
    "              .rename(columns={\"away\":\"team\",\"away_points\":\"points\",\"away_goals\":\"gf\",\"home_goals\":\"ga\"})\n",
    "\n",
    "total_points = pd.concat([home_tbl,away_tbl])\n",
    "league = total_points.groupby(\"team\").agg(points=(\"points\",\"sum\"), GF=(\"gf\",\"sum\"), GA=(\"ga\",\"sum\"))\n",
    "league[\"GD\"] = league[\"GF\"] - league[\"GA\"]\n",
    "league.sort_values([\"points\",\"GD\"], ascending=[False,False])"
   ]
  },
  {
   "cell_type": "code",
   "execution_count": 25,
   "id": "8d04cb2c",
   "metadata": {},
   "outputs": [
    {
     "data": {
      "text/html": [
       "<div>\n",
       "<style scoped>\n",
       "    .dataframe tbody tr th:only-of-type {\n",
       "        vertical-align: middle;\n",
       "    }\n",
       "\n",
       "    .dataframe tbody tr th {\n",
       "        vertical-align: top;\n",
       "    }\n",
       "\n",
       "    .dataframe thead th {\n",
       "        text-align: right;\n",
       "    }\n",
       "</style>\n",
       "<table border=\"1\" class=\"dataframe\">\n",
       "  <thead>\n",
       "    <tr style=\"text-align: right;\">\n",
       "      <th></th>\n",
       "      <th>name</th>\n",
       "      <th>team</th>\n",
       "      <th>goals</th>\n",
       "    </tr>\n",
       "  </thead>\n",
       "  <tbody>\n",
       "    <tr>\n",
       "      <th>4</th>\n",
       "      <td>Joe Jackson</td>\n",
       "      <td>Wolves</td>\n",
       "      <td>17</td>\n",
       "    </tr>\n",
       "    <tr>\n",
       "      <th>0</th>\n",
       "      <td>Ivan Petrov</td>\n",
       "      <td>Lions</td>\n",
       "      <td>11</td>\n",
       "    </tr>\n",
       "    <tr>\n",
       "      <th>3</th>\n",
       "      <td>Georgi Iliev</td>\n",
       "      <td>Wolves</td>\n",
       "      <td>7</td>\n",
       "    </tr>\n",
       "  </tbody>\n",
       "</table>\n",
       "</div>"
      ],
      "text/plain": [
       "           name    team  goals\n",
       "4   Joe Jackson  Wolves     17\n",
       "0   Ivan Petrov   Lions     11\n",
       "3  Georgi Iliev  Wolves      7"
      ]
     },
     "execution_count": 25,
     "metadata": {},
     "output_type": "execute_result"
    }
   ],
   "source": [
    "pd4 = players.nlargest(3, \"goals\")\n",
    "pd4 = pd4[[\"name\", \"team\", \"goals\"]]\n",
    "pd4"
   ]
  },
  {
   "cell_type": "code",
   "execution_count": 26,
   "id": "8ac1706a",
   "metadata": {},
   "outputs": [],
   "source": [
    "bins = [0, 22, 26, 30, np.inf]\n",
    "labels = [\"<=22\", \"23-26\", \"27-30\", \"31+\"]"
   ]
  },
  {
   "cell_type": "code",
   "execution_count": 27,
   "id": "6567fc1f",
   "metadata": {},
   "outputs": [],
   "source": [
    "players[\"age_band\"] = pd.cut(players[\"age\"], bins = bins, labels = labels)"
   ]
  },
  {
   "cell_type": "code",
   "execution_count": 28,
   "id": "3139da95",
   "metadata": {},
   "outputs": [
    {
     "data": {
      "text/html": [
       "<div>\n",
       "<style scoped>\n",
       "    .dataframe tbody tr th:only-of-type {\n",
       "        vertical-align: middle;\n",
       "    }\n",
       "\n",
       "    .dataframe tbody tr th {\n",
       "        vertical-align: top;\n",
       "    }\n",
       "\n",
       "    .dataframe thead th {\n",
       "        text-align: right;\n",
       "    }\n",
       "</style>\n",
       "<table border=\"1\" class=\"dataframe\">\n",
       "  <thead>\n",
       "    <tr style=\"text-align: right;\">\n",
       "      <th></th>\n",
       "      <th>age_band</th>\n",
       "      <th>count</th>\n",
       "    </tr>\n",
       "  </thead>\n",
       "  <tbody>\n",
       "    <tr>\n",
       "      <th>0</th>\n",
       "      <td>27-30</td>\n",
       "      <td>3</td>\n",
       "    </tr>\n",
       "    <tr>\n",
       "      <th>1</th>\n",
       "      <td>&lt;=22</td>\n",
       "      <td>1</td>\n",
       "    </tr>\n",
       "    <tr>\n",
       "      <th>2</th>\n",
       "      <td>23-26</td>\n",
       "      <td>1</td>\n",
       "    </tr>\n",
       "    <tr>\n",
       "      <th>3</th>\n",
       "      <td>31+</td>\n",
       "      <td>1</td>\n",
       "    </tr>\n",
       "  </tbody>\n",
       "</table>\n",
       "</div>"
      ],
      "text/plain": [
       "  age_band  count\n",
       "0    27-30      3\n",
       "1     <=22      1\n",
       "2    23-26      1\n",
       "3      31+      1"
      ]
     },
     "execution_count": 28,
     "metadata": {},
     "output_type": "execute_result"
    }
   ],
   "source": [
    "players[\"age_band\"].value_counts().reset_index()"
   ]
  }
 ],
 "metadata": {
  "kernelspec": {
   "display_name": "Python (stock_analysis_env)",
   "language": "python",
   "name": "stock_analysis_env"
  },
  "language_info": {
   "codemirror_mode": {
    "name": "ipython",
    "version": 3
   },
   "file_extension": ".py",
   "mimetype": "text/x-python",
   "name": "python",
   "nbconvert_exporter": "python",
   "pygments_lexer": "ipython3",
   "version": "3.9.13"
  }
 },
 "nbformat": 4,
 "nbformat_minor": 5
}
