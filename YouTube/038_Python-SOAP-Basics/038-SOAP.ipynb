{
 "cells": [
  {
   "cell_type": "code",
   "execution_count": 2,
   "id": "608a901c",
   "metadata": {},
   "outputs": [],
   "source": [
    "from zeep import Client, Settings, helpers\n",
    "from zeep.plugins import HistoryPlugin\n",
    "from zeep.transports import Transport\n",
    "from zeep.exceptions import Fault, TransportError\n",
    "import requests\n",
    "import requests_cache\n",
    "from lxml import etree\n",
    "\n",
    "session   = requests.Session()\n",
    "transport = Transport(session=session, timeout=20)\n",
    "settings  = Settings(strict=False, xml_huge_tree=True)\n",
    "history   = HistoryPlugin()\n",
    "\n",
    "WSDL = \"https://www.dneonline.com/calculator.asmx?WSDL\""
   ]
  },
  {
   "cell_type": "code",
   "execution_count": 3,
   "id": "f246ef8b",
   "metadata": {},
   "outputs": [
    {
     "data": {
      "text/plain": [
       "'https://www.dneonline.com/calculator.asmx?WSDL'"
      ]
     },
     "execution_count": 3,
     "metadata": {},
     "output_type": "execute_result"
    }
   ],
   "source": [
    "WSDL"
   ]
  },
  {
   "cell_type": "code",
   "execution_count": 4,
   "id": "3c7c29b8",
   "metadata": {},
   "outputs": [
    {
     "name": "stdout",
     "output_type": "stream",
     "text": [
      "http is replaced!\n"
     ]
    }
   ],
   "source": [
    "client = None\n",
    "MODE = None\n",
    "\n",
    "def build_client_from(url: str):\n",
    "    return Client(wsdl=url, settings=settings, transport=transport, plugins=[history])\n",
    "\n",
    "try:\n",
    "    session.verify = True\n",
    "    client = build_client_from(WSDL)\n",
    "    MODE = \"https\"\n",
    "except Exception:\n",
    "    try:\n",
    "        session.verify = False\n",
    "        client = build_client_from(WSDL)\n",
    "        MODE = \"https_verify_false\"\n",
    "    except Exception:\n",
    "        try:\n",
    "            http_wsdl = WSDL.replace(\"https://\", \"http://\")\n",
    "            print(\"http is replaced!\")\n",
    "            session.verify = True\n",
    "            client = build_client_from(http_wsdl)\n",
    "            MODE = \"http\"\n",
    "        except Exception:\n",
    "            client = None\n",
    "            MODE = None\n",
    "            print(\"Client is none!\")"
   ]
  },
  {
   "cell_type": "code",
   "execution_count": 5,
   "id": "b289a9e3",
   "metadata": {},
   "outputs": [
    {
     "data": {
      "text/plain": [
       "'http://www.dneonline.com/calculator.asmx?WSDL'"
      ]
     },
     "execution_count": 5,
     "metadata": {},
     "output_type": "execute_result"
    }
   ],
   "source": [
    "http_wsdl"
   ]
  },
  {
   "cell_type": "code",
   "execution_count": 6,
   "id": "9a35ee1e",
   "metadata": {},
   "outputs": [
    {
     "data": {
      "text/plain": [
       "odict_values([<Service(name='Calculator', ports=OrderedDict([('CalculatorSoap', <Port(name='CalculatorSoap', binding=<Soap11Binding(name='{http://tempuri.org/}CalculatorSoap', port_type=<PortType(name='{http://tempuri.org/}CalculatorSoap')>)>, {'address': 'http://www.dneonline.com/calculator.asmx'})>), ('CalculatorSoap12', <Port(name='CalculatorSoap12', binding=<Soap12Binding(name='{http://tempuri.org/}CalculatorSoap12', port_type=<PortType(name='{http://tempuri.org/}CalculatorSoap')>)>, {'address': 'http://www.dneonline.com/calculator.asmx'})>)]))>])"
      ]
     },
     "execution_count": 6,
     "metadata": {},
     "output_type": "execute_result"
    }
   ],
   "source": [
    "wsdl = f\"Active ({MODE})\"\n",
    "client.wsdl.services.values()"
   ]
  },
  {
   "cell_type": "code",
   "execution_count": 7,
   "id": "69945b93",
   "metadata": {},
   "outputs": [
    {
     "data": {
      "text/plain": [
       "'Active (http)'"
      ]
     },
     "execution_count": 7,
     "metadata": {},
     "output_type": "execute_result"
    }
   ],
   "source": [
    "wsdl"
   ]
  },
  {
   "cell_type": "code",
   "execution_count": 8,
   "id": "9b5e2019",
   "metadata": {},
   "outputs": [],
   "source": [
    "def list_ops_robust(c, label):\n",
    "    print(f\"-- {label} --\")\n",
    "    for service in c.wsdl.services.values():\n",
    "        print(\"Service:\", service.name)\n",
    "        for port in service.ports.values():\n",
    "            print(\"  Port:\", port.name)\n",
    "            ops = getattr(port.binding, \"_operations\", {})\n",
    "            if isinstance(ops, dict) and ops:\n",
    "                for name in sorted(ops.keys()):\n",
    "                    print(\"    Operation:\", name)\n",
    "            else:\n",
    "                proxy = c.bind(service.name, port.name)\n",
    "                names = sorted(n for n in dir(proxy) if not n.startswith(\"_\") and callable(getattr(proxy, n, None)))\n",
    "                for n in names:\n",
    "                    print(\"    Operation:\", n)\n"
   ]
  },
  {
   "cell_type": "code",
   "execution_count": 9,
   "id": "ee36da1d",
   "metadata": {},
   "outputs": [
    {
     "name": "stdout",
     "output_type": "stream",
     "text": [
      "-- Active (http) --\n",
      "Service: Calculator\n",
      "  Port: CalculatorSoap\n",
      "    Operation: Add\n",
      "    Operation: Divide\n",
      "    Operation: Multiply\n",
      "    Operation: Subtract\n",
      "  Port: CalculatorSoap12\n",
      "    Operation: Add\n",
      "    Operation: Divide\n",
      "    Operation: Multiply\n",
      "    Operation: Subtract\n"
     ]
    }
   ],
   "source": [
    "list_ops_robust(client, wsdl)"
   ]
  },
  {
   "cell_type": "code",
   "execution_count": 10,
   "id": "ee7f019f",
   "metadata": {},
   "outputs": [],
   "source": [
    "def safe_call(op, **kwargs):\n",
    "    try:\n",
    "        return getattr(client.service, op)(**kwargs)\n",
    "    except Fault as f:\n",
    "        print(f\"{op} → SOAP Fault:\", f)\n",
    "    except TransportError as te:\n",
    "        print(f\"{op} → Transport error:\", te)\n",
    "    except Exception as e:\n",
    "        print(f\"{op} → Error:\", type(e).__name__, e)"
   ]
  },
  {
   "cell_type": "code",
   "execution_count": 11,
   "id": "d570e7af",
   "metadata": {},
   "outputs": [
    {
     "data": {
      "text/plain": [
       "-2040"
      ]
     },
     "execution_count": 11,
     "metadata": {},
     "output_type": "execute_result"
    }
   ],
   "source": [
    "safe_call(\"Subtract\", intA=360, intB = 2400)"
   ]
  },
  {
   "cell_type": "code",
   "execution_count": 12,
   "id": "a761b01a",
   "metadata": {},
   "outputs": [],
   "source": [
    "def show_last_exchange(hist):\n",
    "    try:\n",
    "        sent = etree.tostring(hist.last_sent[\"envelope\"], pretty_print=True).decode(\"utf-8\")\n",
    "        recv = etree.tostring(hist.last_received[\"envelope\"], pretty_print=True).decode(\"utf-8\")\n",
    "        print(\"----- SOAP REQUEST -----\\n\", sent)\n",
    "        print(\"\\n----- SOAP RESPONSE -----\\n\", recv)\n",
    "    except Exception as e:\n",
    "        print(\"No captured exchange yet.\", e)\n"
   ]
  },
  {
   "cell_type": "code",
   "execution_count": 13,
   "id": "34928816",
   "metadata": {},
   "outputs": [
    {
     "name": "stdout",
     "output_type": "stream",
     "text": [
      "----- SOAP REQUEST -----\n",
      " <soap-env:Envelope xmlns:soap-env=\"http://schemas.xmlsoap.org/soap/envelope/\">\n",
      "  <soap-env:Body>\n",
      "    <ns0:Subtract xmlns:ns0=\"http://tempuri.org/\">\n",
      "      <ns0:intA>360</ns0:intA>\n",
      "      <ns0:intB>2400</ns0:intB>\n",
      "    </ns0:Subtract>\n",
      "  </soap-env:Body>\n",
      "</soap-env:Envelope>\n",
      "\n",
      "\n",
      "----- SOAP RESPONSE -----\n",
      " <soap:Envelope xmlns:soap=\"http://schemas.xmlsoap.org/soap/envelope/\" xmlns:xsi=\"http://www.w3.org/2001/XMLSchema-instance\" xmlns:xsd=\"http://www.w3.org/2001/XMLSchema\">\n",
      "  <soap:Body>\n",
      "    <SubtractResponse xmlns=\"http://tempuri.org/\">\n",
      "      <SubtractResult>-2040</SubtractResult>\n",
      "    </SubtractResponse>\n",
      "  </soap:Body>\n",
      "</soap:Envelope>\n",
      "\n"
     ]
    }
   ],
   "source": [
    "show_last_exchange(history)"
   ]
  },
  {
   "cell_type": "code",
   "execution_count": 14,
   "id": "38eab132",
   "metadata": {},
   "outputs": [
    {
     "data": {
      "text/plain": [
       "10"
      ]
     },
     "execution_count": 14,
     "metadata": {},
     "output_type": "execute_result"
    }
   ],
   "source": [
    "safe_call(\"Divide\", intA=100, intB=10)"
   ]
  },
  {
   "cell_type": "code",
   "execution_count": 15,
   "id": "aa956ebb",
   "metadata": {},
   "outputs": [
    {
     "name": "stdout",
     "output_type": "stream",
     "text": [
      "----- SOAP REQUEST -----\n",
      " <soap-env:Envelope xmlns:soap-env=\"http://schemas.xmlsoap.org/soap/envelope/\">\n",
      "  <soap-env:Body>\n",
      "    <ns0:Divide xmlns:ns0=\"http://tempuri.org/\">\n",
      "      <ns0:intA>100</ns0:intA>\n",
      "      <ns0:intB>10</ns0:intB>\n",
      "    </ns0:Divide>\n",
      "  </soap-env:Body>\n",
      "</soap-env:Envelope>\n",
      "\n",
      "\n",
      "----- SOAP RESPONSE -----\n",
      " <soap:Envelope xmlns:soap=\"http://schemas.xmlsoap.org/soap/envelope/\" xmlns:xsi=\"http://www.w3.org/2001/XMLSchema-instance\" xmlns:xsd=\"http://www.w3.org/2001/XMLSchema\">\n",
      "  <soap:Body>\n",
      "    <DivideResponse xmlns=\"http://tempuri.org/\">\n",
      "      <DivideResult>10</DivideResult>\n",
      "    </DivideResponse>\n",
      "  </soap:Body>\n",
      "</soap:Envelope>\n",
      "\n"
     ]
    }
   ],
   "source": [
    "show_last_exchange(history)"
   ]
  },
  {
   "cell_type": "code",
   "execution_count": 16,
   "id": "2713e091",
   "metadata": {},
   "outputs": [],
   "source": [
    "def circumference(radius:float) -> float:\n",
    "    if radius < 0:\n",
    "        raise ValueError (\"Radius must be positive!\")\n",
    "    first_one = safe_call(\"Multiply\", intA = 2, intB = 3)\n",
    "    second_one = safe_call(\"Multiply\", intA = first_one, intB = radius)\n",
    "    return second_one"
   ]
  },
  {
   "cell_type": "code",
   "execution_count": 17,
   "id": "9d1869b0",
   "metadata": {},
   "outputs": [
    {
     "name": "stdout",
     "output_type": "stream",
     "text": [
      "r=   0: C=    0 vs 0.0\n",
      "r=   1: C=    6 vs 6.28\n",
      "r=   2: C=   12 vs 12.56\n",
      "r= 500: C= 3000 vs 3140.0\n"
     ]
    }
   ],
   "source": [
    "for r in (0, 1, 2, 500):\n",
    "    print(f\"r={r:>4}: C= {circumference(r):>4} vs {3.14 * 2 * r}\")"
   ]
  },
  {
   "cell_type": "code",
   "execution_count": null,
   "id": "ef2d0076",
   "metadata": {},
   "outputs": [],
   "source": []
  }
 ],
 "metadata": {
  "kernelspec": {
   "display_name": "Python (stock_analysis_env)",
   "language": "python",
   "name": "stock_analysis_env"
  },
  "language_info": {
   "codemirror_mode": {
    "name": "ipython",
    "version": 3
   },
   "file_extension": ".py",
   "mimetype": "text/x-python",
   "name": "python",
   "nbconvert_exporter": "python",
   "pygments_lexer": "ipython3",
   "version": "3.9.13"
  }
 },
 "nbformat": 4,
 "nbformat_minor": 5
}
