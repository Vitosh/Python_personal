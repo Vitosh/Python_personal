{
 "cells": [
  {
   "cell_type": "code",
   "execution_count": 39,
   "id": "a681818e",
   "metadata": {},
   "outputs": [],
   "source": [
    "def square(x):\n",
    "    result = x*x\n",
    "    #print('From the square function!')\n",
    "    return result"
   ]
  },
  {
   "cell_type": "code",
   "execution_count": 5,
   "id": "4edda46b",
   "metadata": {},
   "outputs": [
    {
     "data": {
      "text/plain": [
       "529"
      ]
     },
     "execution_count": 5,
     "metadata": {},
     "output_type": "execute_result"
    }
   ],
   "source": [
    "square(23)"
   ]
  },
  {
   "cell_type": "code",
   "execution_count": 6,
   "id": "a079e91c",
   "metadata": {},
   "outputs": [],
   "source": [
    "def add4(x,y,z,zz):\n",
    "    return x + y + z + zz"
   ]
  },
  {
   "cell_type": "code",
   "execution_count": 7,
   "id": "23eeb6a6",
   "metadata": {},
   "outputs": [
    {
     "data": {
      "text/plain": [
       "106"
      ]
     },
     "execution_count": 7,
     "metadata": {},
     "output_type": "execute_result"
    }
   ],
   "source": [
    "add4(1,2,3,100)"
   ]
  },
  {
   "cell_type": "code",
   "execution_count": 8,
   "id": "1ee4632d",
   "metadata": {},
   "outputs": [],
   "source": [
    "def add(*args):\n",
    "    total = 0\n",
    "    for x in args:\n",
    "        total += x\n",
    "    return total"
   ]
  },
  {
   "cell_type": "code",
   "execution_count": 9,
   "id": "0d0a3502",
   "metadata": {},
   "outputs": [
    {
     "data": {
      "text/plain": [
       "19"
      ]
     },
     "execution_count": 9,
     "metadata": {},
     "output_type": "execute_result"
    }
   ],
   "source": [
    "add(1,3,4,5,6)"
   ]
  },
  {
   "cell_type": "code",
   "execution_count": 14,
   "id": "aeb69bb2",
   "metadata": {},
   "outputs": [],
   "source": [
    "a = [11,4,5,6]"
   ]
  },
  {
   "cell_type": "code",
   "execution_count": 15,
   "id": "b5f2e463",
   "metadata": {},
   "outputs": [
    {
     "data": {
      "text/plain": [
       "26"
      ]
     },
     "execution_count": 15,
     "metadata": {},
     "output_type": "execute_result"
    }
   ],
   "source": [
    "add4(*a)"
   ]
  },
  {
   "cell_type": "code",
   "execution_count": 16,
   "id": "51a29503",
   "metadata": {},
   "outputs": [],
   "source": [
    "def birthday(name='friend', age = None):\n",
    "    result = f'Happy birthday, {name}'\n",
    "    if age:\n",
    "        result += f', you are {age} years old!'\n",
    "    return result + \"!\""
   ]
  },
  {
   "cell_type": "code",
   "execution_count": 22,
   "id": "f114c81c",
   "metadata": {},
   "outputs": [
    {
     "data": {
      "text/plain": [
       "'Happy birthday, Vitosh, you are 333 years old!!'"
      ]
     },
     "execution_count": 22,
     "metadata": {},
     "output_type": "execute_result"
    }
   ],
   "source": [
    "birthday(age=333,name='Vitosh')"
   ]
  },
  {
   "cell_type": "code",
   "execution_count": 30,
   "id": "522b2a00",
   "metadata": {},
   "outputs": [],
   "source": [
    "birthday_person = {'age':12, 'name':'vitoshacademy.com'}"
   ]
  },
  {
   "cell_type": "code",
   "execution_count": 31,
   "id": "7b041956",
   "metadata": {},
   "outputs": [
    {
     "data": {
      "text/plain": [
       "'Happy birthday, vitoshacademy.com, you are 12 years old!!'"
      ]
     },
     "execution_count": 31,
     "metadata": {},
     "output_type": "execute_result"
    }
   ],
   "source": [
    "birthday(**birthday_person)"
   ]
  },
  {
   "cell_type": "code",
   "execution_count": 34,
   "id": "57aabbc3",
   "metadata": {},
   "outputs": [],
   "source": [
    "def evaluate(f,x):\n",
    "    return f(x)"
   ]
  },
  {
   "cell_type": "code",
   "execution_count": 40,
   "id": "31ee33ff",
   "metadata": {},
   "outputs": [
    {
     "data": {
      "text/plain": [
       "12321"
      ]
     },
     "execution_count": 40,
     "metadata": {},
     "output_type": "execute_result"
    }
   ],
   "source": [
    "evaluate(square,111)"
   ]
  },
  {
   "cell_type": "code",
   "execution_count": 41,
   "id": "84394752",
   "metadata": {},
   "outputs": [
    {
     "data": {
      "text/plain": [
       "[0, 1, 4, 9, 16, 25, 36, 49, 64, 81]"
      ]
     },
     "execution_count": 41,
     "metadata": {},
     "output_type": "execute_result"
    }
   ],
   "source": [
    "list(map(square,range(10)))"
   ]
  },
  {
   "cell_type": "code",
   "execution_count": 43,
   "id": "5c1c2b5a",
   "metadata": {},
   "outputs": [
    {
     "data": {
      "text/plain": [
       "[0, 1, 2, 3, 4, 5, 6, 7, 8, 9]"
      ]
     },
     "execution_count": 43,
     "metadata": {},
     "output_type": "execute_result"
    }
   ],
   "source": [
    "list(range(10))"
   ]
  },
  {
   "cell_type": "code",
   "execution_count": 44,
   "id": "1afc448f",
   "metadata": {},
   "outputs": [],
   "source": [
    "def make_power_functions(power):\n",
    "    def f(x):\n",
    "        return x ** power\n",
    "    return f"
   ]
  },
  {
   "cell_type": "code",
   "execution_count": 48,
   "id": "736f7c9d",
   "metadata": {},
   "outputs": [],
   "source": [
    "new_variable_that_becomes_function = make_power_functions(2)"
   ]
  },
  {
   "cell_type": "code",
   "execution_count": 49,
   "id": "4855144b",
   "metadata": {},
   "outputs": [
    {
     "data": {
      "text/plain": [
       "25"
      ]
     },
     "execution_count": 49,
     "metadata": {},
     "output_type": "execute_result"
    }
   ],
   "source": [
    "new_variable_that_becomes_function(5)"
   ]
  },
  {
   "cell_type": "code",
   "execution_count": 51,
   "id": "5fdb4cfe",
   "metadata": {},
   "outputs": [
    {
     "data": {
      "text/plain": [
       "<function __main__.<lambda>(x)>"
      ]
     },
     "execution_count": 51,
     "metadata": {},
     "output_type": "execute_result"
    }
   ],
   "source": [
    "lambda x: x + 2 "
   ]
  },
  {
   "cell_type": "code",
   "execution_count": 56,
   "id": "361b5f5c",
   "metadata": {},
   "outputs": [
    {
     "data": {
      "text/plain": [
       "12"
      ]
     },
     "execution_count": 56,
     "metadata": {},
     "output_type": "execute_result"
    }
   ],
   "source": [
    "(lambda x:x+2)(10)"
   ]
  },
  {
   "cell_type": "code",
   "execution_count": 57,
   "id": "ff9870eb",
   "metadata": {},
   "outputs": [
    {
     "data": {
      "text/plain": [
       "3.14"
      ]
     },
     "execution_count": 57,
     "metadata": {},
     "output_type": "execute_result"
    }
   ],
   "source": [
    "(lambda:3.14)()"
   ]
  },
  {
   "cell_type": "code",
   "execution_count": 58,
   "id": "39de7b3f",
   "metadata": {},
   "outputs": [
    {
     "data": {
      "text/plain": [
       "19"
      ]
     },
     "execution_count": 58,
     "metadata": {},
     "output_type": "execute_result"
    }
   ],
   "source": [
    "(lambda x,y: x + 2 ** y)(3,4)"
   ]
  },
  {
   "cell_type": "code",
   "execution_count": 59,
   "id": "32a7ca29",
   "metadata": {},
   "outputs": [],
   "source": [
    "plus2 = lambda x: x + 2 "
   ]
  },
  {
   "cell_type": "code",
   "execution_count": 60,
   "id": "7bdfd237",
   "metadata": {},
   "outputs": [
    {
     "data": {
      "text/plain": [
       "25"
      ]
     },
     "execution_count": 60,
     "metadata": {},
     "output_type": "execute_result"
    }
   ],
   "source": [
    "plus2(23)"
   ]
  },
  {
   "cell_type": "code",
   "execution_count": 65,
   "id": "91712eed",
   "metadata": {},
   "outputs": [
    {
     "data": {
      "text/plain": [
       "[2, 3, 4, 5, 6, 7, 8, 9, 10, 11]"
      ]
     },
     "execution_count": 65,
     "metadata": {},
     "output_type": "execute_result"
    }
   ],
   "source": [
    "list(map(lambda x : x+2, range(0, 10)))"
   ]
  },
  {
   "cell_type": "code",
   "execution_count": 66,
   "id": "fba335f8",
   "metadata": {},
   "outputs": [],
   "source": [
    "import numpy as np"
   ]
  },
  {
   "cell_type": "code",
   "execution_count": 67,
   "id": "e3f070da",
   "metadata": {},
   "outputs": [
    {
     "data": {
      "text/plain": [
       "array([0.        , 1.        , 1.41421356, 1.73205081, 2.        ,\n",
       "       2.23606798, 2.44948974, 2.64575131, 2.82842712, 3.        ])"
      ]
     },
     "execution_count": 67,
     "metadata": {},
     "output_type": "execute_result"
    }
   ],
   "source": [
    "np.sqrt(np.arange(0, 10))"
   ]
  },
  {
   "cell_type": "code",
   "execution_count": 71,
   "id": "765d7585",
   "metadata": {},
   "outputs": [],
   "source": [
    "def my_function(x):\n",
    "    if x%2 == 0:\n",
    "        return x/2\n",
    "    else:\n",
    "        return 0"
   ]
  },
  {
   "cell_type": "code",
   "execution_count": 72,
   "id": "bc965493",
   "metadata": {},
   "outputs": [],
   "source": [
    "my_numpy_function = np.vectorize(my_function)"
   ]
  },
  {
   "cell_type": "code",
   "execution_count": 73,
   "id": "b0d47c99",
   "metadata": {},
   "outputs": [
    {
     "data": {
      "text/plain": [
       "array([0., 0., 1., 0., 2., 0., 3., 0., 4., 0.])"
      ]
     },
     "execution_count": 73,
     "metadata": {},
     "output_type": "execute_result"
    }
   ],
   "source": [
    "my_numpy_function(np.arange(0,10))"
   ]
  }
 ],
 "metadata": {
  "kernelspec": {
   "display_name": "Python 3 (ipykernel)",
   "language": "python",
   "name": "python3"
  },
  "language_info": {
   "codemirror_mode": {
    "name": "ipython",
    "version": 3
   },
   "file_extension": ".py",
   "mimetype": "text/x-python",
   "name": "python",
   "nbconvert_exporter": "python",
   "pygments_lexer": "ipython3",
   "version": "3.9.13"
  }
 },
 "nbformat": 4,
 "nbformat_minor": 5
}
