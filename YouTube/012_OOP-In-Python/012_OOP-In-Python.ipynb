{
 "cells": [
  {
   "cell_type": "code",
   "execution_count": 86,
   "id": "6b07d7fa",
   "metadata": {},
   "outputs": [],
   "source": [
    "class Rectangle():\n",
    "    \n",
    "    def __init__(self, w, h):\n",
    "            self.width = w\n",
    "            self.height = h\n",
    "            \n",
    "    def area(self):\n",
    "        return self.width * self.height\n",
    "    \n",
    "    def scale(self, factor):\n",
    "        return Rectangle(factor * self.width, factor * self.height)\n",
    "    \n",
    "    def __eq__(self, other):\n",
    "        print(f'Comparison between {str(self)} vs {str(other)}.')\n",
    "        return self.width == other.width and self.height == other.height\n",
    "    \n",
    "    def __repr__(self):\n",
    "        return f'Rectangle {self.width} by {self.height}'\n",
    "    \n",
    "    def __str__(self):\n",
    "        return self.__repr__()\n",
    "    \n",
    "    def __mul__(self, factor):\n",
    "        return self.scale(factor)\n",
    "    \n",
    "    def __rmul__(self, factor):\n",
    "        return self.scale(factor)\n",
    "    \n",
    "    @classmethod\n",
    "    def square(cls, side):\n",
    "        return Rectangle(side, side)"
   ]
  },
  {
   "cell_type": "code",
   "execution_count": 12,
   "id": "69541674",
   "metadata": {},
   "outputs": [],
   "source": [
    "r = Rectangle(3,4)"
   ]
  },
  {
   "cell_type": "code",
   "execution_count": 13,
   "id": "0c9590cc",
   "metadata": {},
   "outputs": [
    {
     "data": {
      "text/plain": [
       "4"
      ]
     },
     "execution_count": 13,
     "metadata": {},
     "output_type": "execute_result"
    }
   ],
   "source": [
    "r.height"
   ]
  },
  {
   "cell_type": "code",
   "execution_count": 14,
   "id": "1883134f",
   "metadata": {},
   "outputs": [],
   "source": [
    "# Defining Methods"
   ]
  },
  {
   "cell_type": "code",
   "execution_count": 16,
   "id": "095ff7f4",
   "metadata": {},
   "outputs": [
    {
     "data": {
      "text/plain": [
       "12"
      ]
     },
     "execution_count": 16,
     "metadata": {},
     "output_type": "execute_result"
    }
   ],
   "source": [
    "Rectangle(3,4).area()"
   ]
  },
  {
   "cell_type": "code",
   "execution_count": 25,
   "id": "1a872eb2",
   "metadata": {},
   "outputs": [
    {
     "data": {
      "text/plain": [
       "40"
      ]
     },
     "execution_count": 25,
     "metadata": {},
     "output_type": "execute_result"
    }
   ],
   "source": [
    "Rectangle(3,4).scale(10).height"
   ]
  },
  {
   "cell_type": "code",
   "execution_count": 26,
   "id": "62282b2c",
   "metadata": {},
   "outputs": [
    {
     "data": {
      "text/plain": [
       "30"
      ]
     },
     "execution_count": 26,
     "metadata": {},
     "output_type": "execute_result"
    }
   ],
   "source": [
    "a.width"
   ]
  },
  {
   "cell_type": "code",
   "execution_count": 27,
   "id": "4e572dd7",
   "metadata": {},
   "outputs": [],
   "source": [
    "# Special methods"
   ]
  },
  {
   "cell_type": "code",
   "execution_count": 113,
   "id": "3db4772a",
   "metadata": {},
   "outputs": [
    {
     "data": {
      "text/plain": [
       "{'width': 93750, 'height': 125000}"
      ]
     },
     "execution_count": 113,
     "metadata": {},
     "output_type": "execute_result"
    }
   ],
   "source": [
    "a.__dict__"
   ]
  },
  {
   "cell_type": "code",
   "execution_count": 51,
   "id": "128d03d9",
   "metadata": {},
   "outputs": [],
   "source": [
    "a = a.scale(-5)"
   ]
  },
  {
   "cell_type": "code",
   "execution_count": 69,
   "id": "f4645c36",
   "metadata": {},
   "outputs": [],
   "source": [
    "b = Rectangle(93750, 125000)"
   ]
  },
  {
   "cell_type": "code",
   "execution_count": 54,
   "id": "33ccec87",
   "metadata": {},
   "outputs": [
    {
     "data": {
      "text/plain": [
       "True"
      ]
     },
     "execution_count": 54,
     "metadata": {},
     "output_type": "execute_result"
    }
   ],
   "source": [
    "a == b"
   ]
  },
  {
   "cell_type": "code",
   "execution_count": 60,
   "id": "a4bddb92",
   "metadata": {},
   "outputs": [
    {
     "data": {
      "text/plain": [
       "Rectangle 93750 by 125000"
      ]
     },
     "execution_count": 60,
     "metadata": {},
     "output_type": "execute_result"
    }
   ],
   "source": [
    "Rectangle(93750, 125000)"
   ]
  },
  {
   "cell_type": "code",
   "execution_count": 71,
   "id": "210ae3b5",
   "metadata": {},
   "outputs": [
    {
     "name": "stdout",
     "output_type": "stream",
     "text": [
      "Rectangle 93750 by 125000\n"
     ]
    }
   ],
   "source": [
    "print(b)"
   ]
  },
  {
   "cell_type": "code",
   "execution_count": 72,
   "id": "7b76af68",
   "metadata": {},
   "outputs": [
    {
     "data": {
      "text/plain": [
       "Rectangle 93750 by 125000"
      ]
     },
     "execution_count": 72,
     "metadata": {},
     "output_type": "execute_result"
    }
   ],
   "source": [
    "b"
   ]
  },
  {
   "cell_type": "code",
   "execution_count": 75,
   "id": "b5e02d70",
   "metadata": {},
   "outputs": [
    {
     "data": {
      "text/plain": [
       "Rectangle 10 by 20"
      ]
     },
     "execution_count": 75,
     "metadata": {},
     "output_type": "execute_result"
    }
   ],
   "source": [
    "Rectangle(1,2) * 10"
   ]
  },
  {
   "cell_type": "code",
   "execution_count": 78,
   "id": "0d490818",
   "metadata": {},
   "outputs": [
    {
     "data": {
      "text/plain": [
       "Rectangle 10 by 20"
      ]
     },
     "execution_count": 78,
     "metadata": {},
     "output_type": "execute_result"
    }
   ],
   "source": [
    "10 * Rectangle(1,2)"
   ]
  },
  {
   "cell_type": "code",
   "execution_count": 79,
   "id": "5d5c78f9",
   "metadata": {},
   "outputs": [],
   "source": [
    "# Class methods"
   ]
  },
  {
   "cell_type": "code",
   "execution_count": 87,
   "id": "88e75ff0",
   "metadata": {},
   "outputs": [
    {
     "name": "stdout",
     "output_type": "stream",
     "text": [
      "Comparison between Rectangle 5 by 5 vs Rectangle 5 by 5.\n"
     ]
    },
    {
     "data": {
      "text/plain": [
       "True"
      ]
     },
     "execution_count": 87,
     "metadata": {},
     "output_type": "execute_result"
    }
   ],
   "source": [
    "Rectangle.square(5) == Rectangle(5,5)"
   ]
  },
  {
   "cell_type": "code",
   "execution_count": 90,
   "id": "bb61efff",
   "metadata": {},
   "outputs": [],
   "source": [
    "#Inheritance and abstract classes (ABC)"
   ]
  },
  {
   "cell_type": "code",
   "execution_count": 91,
   "id": "05fc93b6",
   "metadata": {},
   "outputs": [],
   "source": [
    "class Square(Rectangle):\n",
    "    \n",
    "    def __init__(self, size):\n",
    "        return super().__init__(size, size)\n",
    "    \n",
    "    def __repr__(self):\n",
    "        return f\"Square {self.width}\""
   ]
  },
  {
   "cell_type": "code",
   "execution_count": 95,
   "id": "8edb8fc0",
   "metadata": {},
   "outputs": [
    {
     "data": {
      "text/plain": [
       "16"
      ]
     },
     "execution_count": 95,
     "metadata": {},
     "output_type": "execute_result"
    }
   ],
   "source": [
    "Square(4).area()"
   ]
  },
  {
   "cell_type": "code",
   "execution_count": 96,
   "id": "f5479e74",
   "metadata": {},
   "outputs": [
    {
     "name": "stdout",
     "output_type": "stream",
     "text": [
      "Comparison between Square 4 vs Rectangle 4 by 4.\n"
     ]
    },
    {
     "data": {
      "text/plain": [
       "True"
      ]
     },
     "execution_count": 96,
     "metadata": {},
     "output_type": "execute_result"
    }
   ],
   "source": [
    "Square(4) == Rectangle(4,4)"
   ]
  },
  {
   "cell_type": "code",
   "execution_count": 99,
   "id": "a5155373",
   "metadata": {},
   "outputs": [],
   "source": [
    "from math import pi\n",
    "\n",
    "\n",
    "class Circle():\n",
    "\n",
    "    def __init__(self, r):\n",
    "        self.radius = r\n",
    "        \n",
    "    def area(self):\n",
    "        return pi * self.radius * self.radius\n",
    "    \n",
    "    def scale(self, factor):\n",
    "        return Circle(factor * self.radius)\n",
    "    \n",
    "    def __eq__(self,other):\n",
    "        return self.radius == other.radius\n",
    "    \n",
    "    def __repr__(self):\n",
    "        return 'Circle (radius %r)' % self.radius\n",
    "    \n",
    "    def __mul__(self,factor):\n",
    "        return self.scale(factor)\n",
    "    \n",
    "    def __rmul__(self,factor):\n",
    "        return self.scale(factor)\n"
   ]
  },
  {
   "cell_type": "code",
   "execution_count": 100,
   "id": "8ac566e4",
   "metadata": {},
   "outputs": [],
   "source": [
    "from abc import ABC, abstractmethod"
   ]
  },
  {
   "cell_type": "code",
   "execution_count": 108,
   "id": "94348892",
   "metadata": {},
   "outputs": [],
   "source": [
    "class Shape(ABC):\n",
    "    \n",
    "    @abstractmethod\n",
    "    def area(self):\n",
    "        pass\n",
    "    \n",
    "    @abstractmethod\n",
    "    def scale(self, factor):\n",
    "        pass\n",
    "    \n",
    "    def __eq__(self, other):\n",
    "        print(f'Comparing from Shape(ABC) - {self.__dict__} w/ something else')\n",
    "        return self.__dict__ == other.__dict__\n",
    "    \n",
    "    def __mul__(self, factor):\n",
    "        return self.scale(factor)\n",
    "    \n",
    "    def __rmul__(self, factor):\n",
    "        return self.scale(factor)"
   ]
  },
  {
   "cell_type": "code",
   "execution_count": 109,
   "id": "b4bc63dd",
   "metadata": {},
   "outputs": [],
   "source": [
    "class Rectangle(Shape):\n",
    "    def __init__(self,w,h):\n",
    "        self.width = w\n",
    "        self.height = h\n",
    "\n",
    "    def area(self):\n",
    "        return self.width * self.height\n",
    "    \n",
    "    def scale(self, factor):\n",
    "        return Rectangle(factor * self.width, factor * self.height)"
   ]
  },
  {
   "cell_type": "code",
   "execution_count": 112,
   "id": "5cb4e696",
   "metadata": {},
   "outputs": [
    {
     "name": "stdout",
     "output_type": "stream",
     "text": [
      "Comparing from Shape(ABC) - {'width': 5, 'height': 6} w/ something else\n"
     ]
    },
    {
     "data": {
      "text/plain": [
       "True"
      ]
     },
     "execution_count": 112,
     "metadata": {},
     "output_type": "execute_result"
    }
   ],
   "source": [
    "Rectangle(5,6) == Rectangle(5,6)"
   ]
  },
  {
   "cell_type": "code",
   "execution_count": null,
   "id": "f45a1d94",
   "metadata": {},
   "outputs": [],
   "source": []
  }
 ],
 "metadata": {
  "kernelspec": {
   "display_name": "Python 3 (ipykernel)",
   "language": "python",
   "name": "python3"
  },
  "language_info": {
   "codemirror_mode": {
    "name": "ipython",
    "version": 3
   },
   "file_extension": ".py",
   "mimetype": "text/x-python",
   "name": "python",
   "nbconvert_exporter": "python",
   "pygments_lexer": "ipython3",
   "version": "3.9.13"
  }
 },
 "nbformat": 4,
 "nbformat_minor": 5
}
