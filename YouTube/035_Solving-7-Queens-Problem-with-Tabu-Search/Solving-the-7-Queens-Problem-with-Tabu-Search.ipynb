{
 "cells": [
  {
   "cell_type": "code",
   "execution_count": 1,
   "id": "4ed9691c",
   "metadata": {},
   "outputs": [],
   "source": [
    "import random\n",
    "import numpy as np\n",
    "import matplotlib.pyplot as plt"
   ]
  },
  {
   "cell_type": "code",
   "execution_count": 2,
   "id": "ed90ce84",
   "metadata": {},
   "outputs": [],
   "source": [
    "def get_initial_state(board_size):\n",
    "    queens = list(range(board_size))\n",
    "    random.shuffle(queens)\n",
    "    return queens"
   ]
  },
  {
   "cell_type": "code",
   "execution_count": 3,
   "id": "19ee6486",
   "metadata": {},
   "outputs": [],
   "source": [
    "def plot_queens(queens):\n",
    "    board_size = len(queens)\n",
    "    \n",
    "    # Create state matrix (same as your original code)\n",
    "    states = []\n",
    "    for i in range(board_size):\n",
    "        for j in range(board_size):\n",
    "            if queens[j] == i:  # Queen in column j, row i\n",
    "                states.append(True)\n",
    "            else:\n",
    "                states.append(None)\n",
    "    \n",
    "    states = np.array(states).reshape(board_size, board_size)\n",
    "    \n",
    "    # Create figure with your original settings\n",
    "    fig = plt.figure(figsize=(5,5))\n",
    "    \n",
    "    # Get marker positions (same as your original code)\n",
    "    markers = [\n",
    "        x.tolist().index(True) if True in x.tolist() else None\n",
    "        for x in states\n",
    "    ]\n",
    "    \n",
    "    # Create chessboard pattern\n",
    "    res = np.add.outer(range(board_size), range(board_size)) % 2\n",
    "    plt.imshow(res, cmap=\"binary_r\", origin='upper')  # Added origin='upper'\n",
    "    \n",
    "    # Plot with your original marker settings\n",
    "    plt.plot(markers, marker=\"*\", linestyle=\"None\", \n",
    "             markersize=100/board_size, color=\"y\")\n",
    "    \n",
    "    plt.xticks([])\n",
    "    plt.yticks([])\n",
    "    plt.show()"
   ]
  },
  {
   "cell_type": "code",
   "execution_count": 4,
   "id": "67b99736",
   "metadata": {},
   "outputs": [],
   "source": [
    "queens = [3, 4, 2, 5, 6, 0, 1]"
   ]
  },
  {
   "cell_type": "code",
   "execution_count": 5,
   "id": "11840ebf",
   "metadata": {},
   "outputs": [
    {
     "data": {
      "image/png": "[encoded data removed]",
      "text/plain": [
       "<Figure size 500x500 with 1 Axes>"
      ]
     },
     "metadata": {},
     "output_type": "display_data"
    }
   ],
   "source": [
    "plot_queens(queens)"
   ]
  },
  {
   "cell_type": "code",
   "execution_count": 6,
   "id": "b5e72a3e",
   "metadata": {},
   "outputs": [],
   "source": [
    "def num_attacking_queens(queens):\n",
    "    board_size = len(queens)\n",
    "    num_attacks = 0\n",
    "    for i in range(board_size):\n",
    "        for j in range(i + 1, board_size):\n",
    "            if queens[i] == queens[j] or abs(queens[i] - queens[j]) == j - i:\n",
    "                num_attacks += 1\n",
    "    return num_attacks\n"
   ]
  },
  {
   "cell_type": "code",
   "execution_count": 7,
   "id": "3de9e750",
   "metadata": {},
   "outputs": [
    {
     "data": {
      "text/plain": [
       "4"
      ]
     },
     "execution_count": 7,
     "metadata": {},
     "output_type": "execute_result"
    }
   ],
   "source": [
    "num_attacking_queens(queens)"
   ]
  },
  {
   "cell_type": "code",
   "execution_count": 8,
   "id": "22807b87",
   "metadata": {},
   "outputs": [],
   "source": [
    "# Get the best move\n",
    "def get_best_move(queens, tabu_list):\n",
    "    board_size = len(queens)\n",
    "    best_move = None\n",
    "    best_num_attacks = board_size * (board_size - 1) // 2\n",
    "    for i in range(board_size):\n",
    "        for j in range(board_size):\n",
    "            if queens[i] != j:\n",
    "                new_queens = queens.copy()\n",
    "                new_queens[i] = j\n",
    "                if str(new_queens) not in tabu_list:\n",
    "                    num_attacks = num_attacking_queens(new_queens)\n",
    "                    if num_attacks < best_num_attacks:\n",
    "                        best_move = (i, j)\n",
    "                        best_num_attacks = num_attacks\n",
    "    return best_move\n"
   ]
  },
  {
   "cell_type": "code",
   "execution_count": 9,
   "id": "1c1bf184",
   "metadata": {},
   "outputs": [],
   "source": [
    "# Update the tabu list\n",
    "def update_tabu_list(tabu_list, tabu_tenure, move):\n",
    "    tabu_list.append(str(move))\n",
    "    if len(tabu_list) > tabu_tenure:\n",
    "        tabu_list.pop(0)\n"
   ]
  },
  {
   "cell_type": "code",
   "execution_count": 10,
   "id": "3e7848cf",
   "metadata": {},
   "outputs": [],
   "source": [
    "# Tabu search\n",
    "def tabu_search(num_iterations, tabu_tenure, max_non_improvement, queens):\n",
    "    num_non_improvement = 0\n",
    "    best_queens = queens\n",
    "    best_num_attacks = num_attacking_queens(queens)\n",
    "    tabu_list = []\n",
    "\n",
    "    for i in range(num_iterations):\n",
    "        move = get_best_move(queens, tabu_list)\n",
    "        if move is not None:\n",
    "            queens[move[0]] = move[1]\n",
    "            update_tabu_list(tabu_list, tabu_tenure, move)\n",
    "            num_attacks = num_attacking_queens(queens)\n",
    "            if num_attacks < best_num_attacks:\n",
    "                best_queens = queens\n",
    "                best_num_attacks = num_attacks\n",
    "                num_non_improvement = 0\n",
    "        else:\n",
    "            num_non_improvement += 1\n",
    "            if num_non_improvement >= max_non_improvement:\n",
    "                break\n",
    "\n",
    "    return best_queens, num_attacks\n"
   ]
  },
  {
   "cell_type": "code",
   "execution_count": 11,
   "id": "2f432966",
   "metadata": {},
   "outputs": [],
   "source": [
    "# Solve the problem using Tabu Search\n",
    "\n",
    "# Set board size for nxn Queeen problem\n",
    "board_size = 5\n",
    "\n",
    "# Define the number of iterations for the search\n",
    "num_iterations = 2000\n",
    "\n",
    "# Define the tabu tenure\n",
    "tabu_tenure = 12\n",
    "\n",
    "# Define the number of moves without improvement before considering a solution is stuck\n",
    "max_non_improvement = 30\n",
    "\n",
    "best_board, num_attacks=tabu_search(num_iterations, tabu_tenure, max_non_improvement, get_initial_state(board_size))"
   ]
  },
  {
   "cell_type": "code",
   "execution_count": 12,
   "id": "35c084fe",
   "metadata": {},
   "outputs": [
    {
     "name": "stdout",
     "output_type": "stream",
     "text": [
      "Best found board is  [3, 0, 2, 4, 1]\n",
      "Number of attacks in the best found board is  0\n"
     ]
    }
   ],
   "source": [
    "print(\"Best found board is \", best_board)\n",
    "print(\"Number of attacks in the best found board is \", num_attacks)"
   ]
  },
  {
   "cell_type": "code",
   "execution_count": 13,
   "id": "6f4c0edc",
   "metadata": {},
   "outputs": [
    {
     "data": {
      "image/png": "[encoded data removed]",
      "text/plain": [
       "<Figure size 500x500 with 1 Axes>"
      ]
     },
     "metadata": {},
     "output_type": "display_data"
    }
   ],
   "source": [
    "plot_queens(best_board)"
   ]
  },
  {
   "cell_type": "code",
   "execution_count": null,
   "id": "8954010e",
   "metadata": {},
   "outputs": [],
   "source": []
  }
 ],
 "metadata": {
  "kernelspec": {
   "display_name": "Python 3 (ipykernel)",
   "language": "python",
   "name": "python3"
  },
  "language_info": {
   "codemirror_mode": {
    "name": "ipython",
    "version": 3
   },
   "file_extension": ".py",
   "mimetype": "text/x-python",
   "name": "python",
   "nbconvert_exporter": "python",
   "pygments_lexer": "ipython3",
   "version": "3.9.13"
  }
 },
 "nbformat": 4,
 "nbformat_minor": 5
}
