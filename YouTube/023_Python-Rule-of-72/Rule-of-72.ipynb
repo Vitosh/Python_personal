{
 "cells": [
  {
   "cell_type": "code",
   "execution_count": 1,
   "id": "e674c059",
   "metadata": {},
   "outputs": [],
   "source": [
    "import math"
   ]
  },
  {
   "cell_type": "markdown",
   "id": "e271ba1b",
   "metadata": {},
   "source": [
    "# Introduction to the Rule of 72 (and Others)\n",
    "\n",
    "Welcome! In this notebook, we'll explore how to quickly estimate\n",
    "the number of years it takes for an investment to double at a given\n",
    "annual interest rate. We'll focus on:\n",
    "- The **exact formula** using logarithms.\n",
    "- The **Rule of 72** (and its close variants, 70 and 69).\n",
    "- A brief look at why approximately **0.69** (≈ ln(2)) appears in these rules.\n",
    "\n",
    "## Basic Doubling Time Explanation\n",
    "\n",
    "If we have an annual interest rate of $r\\%$, the _doubling time_ $T$\n",
    "is how many years it takes for an initial principal to double.\n",
    "\n",
    "### Exact Formula\n",
    "\n",
    "The exact time to double, given a constant annual interest rate $r\\%$, is:\n",
    "\n",
    "$$\n",
    "T \\;=\\; \\frac{\\ln(2)}{\\ln\\!\\Bigl(1 + \\frac{r}{100}\\Bigr)}.\n",
    "$$\n",
    "\n",
    "Why logarithms? Because compound interest grows exponentially, so\n",
    "the time to reach a certain multiple (in this case, \"double\") \n",
    "naturally involves the $\\ln(\\cdot)$ function.\n"
   ]
  },
  {
   "cell_type": "code",
   "execution_count": 2,
   "id": "4d7b4666",
   "metadata": {},
   "outputs": [],
   "source": [
    "def exact_doubling_time(rate_percent):\n",
    "    rate_decimal = rate_percent / 100.0\n",
    "    return math.log(2)/math.log(1+rate_decimal)"
   ]
  },
  {
   "cell_type": "code",
   "execution_count": 3,
   "id": "4c735bb6",
   "metadata": {},
   "outputs": [
    {
     "name": "stdout",
     "output_type": "stream",
     "text": [
      "Doubling an investment with annual 8%, will be completed in 9.006 years.\n"
     ]
    }
   ],
   "source": [
    "rate_example = 8 #8% interest\n",
    "time_to_double = exact_doubling_time(rate_example)\n",
    "print(f\"Doubling an investment with annual {rate_example}%, will be completed in {time_to_double:.3f} years.\")"
   ]
  },
  {
   "cell_type": "markdown",
   "id": "d1491fb4",
   "metadata": {},
   "source": [
    "A famously quick approximation to find the doubling time is:\n",
    "\n",
    "$$\n",
    "T \\;\\approx\\; \\frac{72}{r},\n",
    "$$\n",
    "\n",
    "where $r$ is the annual interest rate in **percent**. \n",
    "\n",
    "For example, if $r = 8$, the Rule of 72 says:\n",
    "\n",
    "$$\n",
    "T \\;\\approx\\; \\frac{72}{8} \\;=\\; 9 \\text{ years},\n",
    "$$\n",
    "\n",
    "which is very close to the exact 9.006 years!\n",
    "\n",
    "### Rule of 70 & Rule of 69\n",
    "These are just alternative approximations:\n",
    "\n",
    "$$\n",
    "T \\;\\approx\\; \\frac{70}{r} \n",
    "\\quad \\text{and} \\quad\n",
    "T \\;\\approx\\; \\frac{69}{r}.\n",
    "$$\n",
    "\n",
    "They revolve around the fact that $\\ln(2) \\approx 0.693$, \n",
    "so multiplying by 100 yields about 69.3.\n"
   ]
  },
  {
   "cell_type": "code",
   "execution_count": 4,
   "id": "ab457985",
   "metadata": {},
   "outputs": [
    {
     "name": "stdout",
     "output_type": "stream",
     "text": [
      "Interest Rate: 8%\n",
      "Rule of 72:   9.00 years\n",
      "Rule of 70:   8.75 years\n",
      "Rule of 69:   8.62 years\n",
      "Exact:        9.006 years\n"
     ]
    }
   ],
   "source": [
    "def rule_of_72(rate_percent):\n",
    "    return 72 / rate_percent\n",
    "\n",
    "def rule_of_70(rate_percent):\n",
    "    return 70 / rate_percent\n",
    "\n",
    "def rule_of_69(rate_percent):\n",
    "    return 69 / rate_percent\n",
    "\n",
    "rate_ex = 8\n",
    "approx_72 = rule_of_72(rate_ex)\n",
    "approx_70 = rule_of_70(rate_ex)\n",
    "approx_69 = rule_of_69(rate_ex)\n",
    "exact_val = exact_doubling_time(rate_ex)\n",
    "\n",
    "print(f\"Interest Rate: {rate_ex}%\")\n",
    "print(f\"Rule of 72:   {approx_72:.2f} years\")\n",
    "print(f\"Rule of 70:   {approx_70:.2f} years\")\n",
    "print(f\"Rule of 69:   {approx_69:.2f} years\")\n",
    "print(f\"Exact:        {exact_val:.3f} years\")"
   ]
  },
  {
   "cell_type": "code",
   "execution_count": 5,
   "id": "b1f49c69",
   "metadata": {},
   "outputs": [
    {
     "name": "stdout",
     "output_type": "stream",
     "text": [
      "Rate: 1%\n",
      " Exact = 69.66 | Rule 72 = 72.0 | Error = 3.36%\n",
      "\n",
      "Rate: 2%\n",
      " Exact = 35.00 | Rule 72 = 36.0 | Error = 2.85%\n",
      "\n",
      "Rate: 5%\n",
      " Exact = 14.21 | Rule 72 = 14.4 | Error = 1.36%\n",
      "\n",
      "Rate: 8%\n",
      " Exact = 9.01 | Rule 72 = 9.0 | Error = -0.07%\n",
      "\n",
      "Rate: 10%\n",
      " Exact = 7.27 | Rule 72 = 7.2 | Error = -1.00%\n",
      "\n",
      "Rate: 20%\n",
      " Exact = 3.80 | Rule 72 = 3.6 | Error = -5.31%\n",
      "\n",
      "Rate: 50%\n",
      " Exact = 1.71 | Rule 72 = 1.44 | Error = -15.77%\n",
      "\n",
      "Rate: 100%\n",
      " Exact = 1.00 | Rule 72 = 0.72 | Error = -28.00%\n",
      "\n"
     ]
    }
   ],
   "source": [
    "for r_percent in [1, 2, 5, 8, 10, 20, 50, 100]:\n",
    "    exact_t = exact_doubling_time(r_percent)\n",
    "    t72 = rule_of_72(r_percent)\n",
    "    print(f\"Rate: {r_percent}%\\n\"\n",
    "          f\" Exact = {exact_t:.2f} | Rule 72 = {t72} | Error = {100*(t72-exact_t)/exact_t:.2f}%\\n\")\n",
    "          "
   ]
  }
 ],
 "metadata": {
  "kernelspec": {
   "display_name": "Python 3 (ipykernel)",
   "language": "python",
   "name": "python3"
  },
  "language_info": {
   "codemirror_mode": {
    "name": "ipython",
    "version": 3
   },
   "file_extension": ".py",
   "mimetype": "text/x-python",
   "name": "python",
   "nbconvert_exporter": "python",
   "pygments_lexer": "ipython3",
   "version": "3.9.13"
  }
 },
 "nbformat": 4,
 "nbformat_minor": 5
}
