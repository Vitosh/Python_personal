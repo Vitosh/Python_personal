{
 "cells": [
  {
   "cell_type": "code",
   "execution_count": 29,
   "id": "c8208117-4d3f-4b4b-bc62-51e1238aa84a",
   "metadata": {},
   "outputs": [],
   "source": [
    "import numpy as np\n",
    "import pandas as pd\n",
    "import matplotlib.pyplot as plt\n",
    "import xgboost as xgb\n",
    "\n",
    "from sklearn.model_selection import train_test_split\n",
    "from sklearn.metrics import (\n",
    "    precision_recall_curve, confusion_matrix,\n",
    "    precision_score, recall_score,\n",
    "    average_precision_score, roc_auc_score\n",
    ")"
   ]
  },
  {
   "cell_type": "code",
   "execution_count": 31,
   "id": "aded3610-ac54-4f50-8fa8-3e2010c3a524",
   "metadata": {
    "tags": []
   },
   "outputs": [],
   "source": [
    "pd.set_option(\"display.max_columns\", 60)"
   ]
  },
  {
   "cell_type": "code",
   "execution_count": 32,
   "id": "77ee3d00-1a00-40d4-bb09-67b83b3794b1",
   "metadata": {
    "tags": []
   },
   "outputs": [],
   "source": [
    "df = pd.read_csv(\"churn.csv\")"
   ]
  },
  {
   "cell_type": "code",
   "execution_count": 33,
   "id": "117a713e-49c4-4f9d-9c0d-edaeeadef30e",
   "metadata": {
    "tags": []
   },
   "outputs": [
    {
     "data": {
      "text/plain": [
       "(14000, 8)"
      ]
     },
     "execution_count": 33,
     "metadata": {},
     "output_type": "execute_result"
    }
   ],
   "source": [
    "df.shape"
   ]
  },
  {
   "cell_type": "code",
   "execution_count": 34,
   "id": "ea25dd98-168a-4d98-b71b-e481ddbf6f07",
   "metadata": {
    "tags": []
   },
   "outputs": [
    {
     "name": "stdout",
     "output_type": "stream",
     "text": [
      "<class 'pandas.core.frame.DataFrame'>\n",
      "RangeIndex: 14000 entries, 0 to 13999\n",
      "Data columns (total 8 columns):\n",
      " #   Column            Non-Null Count  Dtype  \n",
      "---  ------            --------------  -----  \n",
      " 0   tenure_months     13730 non-null  float64\n",
      " 1   monthly_spend     13711 non-null  float64\n",
      " 2   support_calls     13726 non-null  float64\n",
      " 3   promo_eligible    13730 non-null  float64\n",
      " 4   debt_ratio        13728 non-null  float64\n",
      " 5   age               13710 non-null  float64\n",
      " 6   is_international  13713 non-null  float64\n",
      " 7   churn             14000 non-null  int64  \n",
      "dtypes: float64(7), int64(1)\n",
      "memory usage: 875.1 KB\n"
     ]
    }
   ],
   "source": [
    "df.info()"
   ]
  },
  {
   "cell_type": "code",
   "execution_count": 35,
   "id": "45668e8f-1430-4798-80b4-70f705d8e6ce",
   "metadata": {
    "tags": []
   },
   "outputs": [
    {
     "data": {
      "text/html": [
       "<div>\n",
       "<style scoped>\n",
       "    .dataframe tbody tr th:only-of-type {\n",
       "        vertical-align: middle;\n",
       "    }\n",
       "\n",
       "    .dataframe tbody tr th {\n",
       "        vertical-align: top;\n",
       "    }\n",
       "\n",
       "    .dataframe thead th {\n",
       "        text-align: right;\n",
       "    }\n",
       "</style>\n",
       "<table border=\"1\" class=\"dataframe\">\n",
       "  <thead>\n",
       "    <tr style=\"text-align: right;\">\n",
       "      <th></th>\n",
       "      <th>tenure_months</th>\n",
       "      <th>monthly_spend</th>\n",
       "      <th>support_calls</th>\n",
       "      <th>promo_eligible</th>\n",
       "      <th>debt_ratio</th>\n",
       "      <th>age</th>\n",
       "      <th>is_international</th>\n",
       "      <th>churn</th>\n",
       "    </tr>\n",
       "  </thead>\n",
       "  <tbody>\n",
       "    <tr>\n",
       "      <th>0</th>\n",
       "      <td>32.0</td>\n",
       "      <td>68.231799</td>\n",
       "      <td>8.0</td>\n",
       "      <td>NaN</td>\n",
       "      <td>0.290672</td>\n",
       "      <td>21.0</td>\n",
       "      <td>1.0</td>\n",
       "      <td>1</td>\n",
       "    </tr>\n",
       "    <tr>\n",
       "      <th>1</th>\n",
       "      <td>71.0</td>\n",
       "      <td>90.902968</td>\n",
       "      <td>0.0</td>\n",
       "      <td>0.0</td>\n",
       "      <td>0.165351</td>\n",
       "      <td>52.0</td>\n",
       "      <td>1.0</td>\n",
       "      <td>0</td>\n",
       "    </tr>\n",
       "    <tr>\n",
       "      <th>2</th>\n",
       "      <td>71.0</td>\n",
       "      <td>61.131705</td>\n",
       "      <td>6.0</td>\n",
       "      <td>1.0</td>\n",
       "      <td>0.353166</td>\n",
       "      <td>55.0</td>\n",
       "      <td>1.0</td>\n",
       "      <td>0</td>\n",
       "    </tr>\n",
       "    <tr>\n",
       "      <th>3</th>\n",
       "      <td>27.0</td>\n",
       "      <td>129.992275</td>\n",
       "      <td>2.0</td>\n",
       "      <td>NaN</td>\n",
       "      <td>0.347002</td>\n",
       "      <td>65.0</td>\n",
       "      <td>0.0</td>\n",
       "      <td>0</td>\n",
       "    </tr>\n",
       "    <tr>\n",
       "      <th>4</th>\n",
       "      <td>68.0</td>\n",
       "      <td>109.181253</td>\n",
       "      <td>1.0</td>\n",
       "      <td>1.0</td>\n",
       "      <td>0.168505</td>\n",
       "      <td>46.0</td>\n",
       "      <td>1.0</td>\n",
       "      <td>0</td>\n",
       "    </tr>\n",
       "    <tr>\n",
       "      <th>5</th>\n",
       "      <td>59.0</td>\n",
       "      <td>NaN</td>\n",
       "      <td>6.0</td>\n",
       "      <td>1.0</td>\n",
       "      <td>0.341591</td>\n",
       "      <td>57.0</td>\n",
       "      <td>1.0</td>\n",
       "      <td>0</td>\n",
       "    </tr>\n",
       "    <tr>\n",
       "      <th>6</th>\n",
       "      <td>46.0</td>\n",
       "      <td>145.048771</td>\n",
       "      <td>11.0</td>\n",
       "      <td>0.0</td>\n",
       "      <td>0.363906</td>\n",
       "      <td>35.0</td>\n",
       "      <td>1.0</td>\n",
       "      <td>1</td>\n",
       "    </tr>\n",
       "  </tbody>\n",
       "</table>\n",
       "</div>"
      ],
      "text/plain": [
       "   tenure_months  monthly_spend  support_calls  promo_eligible  debt_ratio  \\\n",
       "0           32.0      68.231799            8.0             NaN    0.290672   \n",
       "1           71.0      90.902968            0.0             0.0    0.165351   \n",
       "2           71.0      61.131705            6.0             1.0    0.353166   \n",
       "3           27.0     129.992275            2.0             NaN    0.347002   \n",
       "4           68.0     109.181253            1.0             1.0    0.168505   \n",
       "5           59.0            NaN            6.0             1.0    0.341591   \n",
       "6           46.0     145.048771           11.0             0.0    0.363906   \n",
       "\n",
       "    age  is_international  churn  \n",
       "0  21.0               1.0      1  \n",
       "1  52.0               1.0      0  \n",
       "2  55.0               1.0      0  \n",
       "3  65.0               0.0      0  \n",
       "4  46.0               1.0      0  \n",
       "5  57.0               1.0      0  \n",
       "6  35.0               1.0      1  "
      ]
     },
     "execution_count": 35,
     "metadata": {},
     "output_type": "execute_result"
    }
   ],
   "source": [
    "df.head(7)"
   ]
  },
  {
   "cell_type": "code",
   "execution_count": 36,
   "id": "3ea0c11f-c550-42c4-8d41-166f1e0064f4",
   "metadata": {
    "tags": []
   },
   "outputs": [
    {
     "data": {
      "text/html": [
       "<div>\n",
       "<style scoped>\n",
       "    .dataframe tbody tr th:only-of-type {\n",
       "        vertical-align: middle;\n",
       "    }\n",
       "\n",
       "    .dataframe tbody tr th {\n",
       "        vertical-align: top;\n",
       "    }\n",
       "\n",
       "    .dataframe thead th {\n",
       "        text-align: right;\n",
       "    }\n",
       "</style>\n",
       "<table border=\"1\" class=\"dataframe\">\n",
       "  <thead>\n",
       "    <tr style=\"text-align: right;\">\n",
       "      <th></th>\n",
       "      <th>count</th>\n",
       "      <th>mean</th>\n",
       "      <th>std</th>\n",
       "      <th>min</th>\n",
       "      <th>25%</th>\n",
       "      <th>50%</th>\n",
       "      <th>75%</th>\n",
       "      <th>max</th>\n",
       "    </tr>\n",
       "  </thead>\n",
       "  <tbody>\n",
       "    <tr>\n",
       "      <th>tenure_months</th>\n",
       "      <td>13730.0</td>\n",
       "      <td>35.733430</td>\n",
       "      <td>20.650465</td>\n",
       "      <td>0.000000</td>\n",
       "      <td>18.000000</td>\n",
       "      <td>36.000000</td>\n",
       "      <td>54.000000</td>\n",
       "      <td>71.000000</td>\n",
       "    </tr>\n",
       "    <tr>\n",
       "      <th>monthly_spend</th>\n",
       "      <td>13711.0</td>\n",
       "      <td>85.284376</td>\n",
       "      <td>29.782121</td>\n",
       "      <td>10.000000</td>\n",
       "      <td>65.187485</td>\n",
       "      <td>85.448481</td>\n",
       "      <td>105.423118</td>\n",
       "      <td>196.463627</td>\n",
       "    </tr>\n",
       "    <tr>\n",
       "      <th>support_calls</th>\n",
       "      <td>13726.0</td>\n",
       "      <td>5.488708</td>\n",
       "      <td>3.459574</td>\n",
       "      <td>0.000000</td>\n",
       "      <td>3.000000</td>\n",
       "      <td>5.000000</td>\n",
       "      <td>9.000000</td>\n",
       "      <td>11.000000</td>\n",
       "    </tr>\n",
       "    <tr>\n",
       "      <th>promo_eligible</th>\n",
       "      <td>13730.0</td>\n",
       "      <td>0.493955</td>\n",
       "      <td>0.499982</td>\n",
       "      <td>0.000000</td>\n",
       "      <td>0.000000</td>\n",
       "      <td>0.000000</td>\n",
       "      <td>1.000000</td>\n",
       "      <td>1.000000</td>\n",
       "    </tr>\n",
       "    <tr>\n",
       "      <th>debt_ratio</th>\n",
       "      <td>13728.0</td>\n",
       "      <td>0.285614</td>\n",
       "      <td>0.160425</td>\n",
       "      <td>0.000678</td>\n",
       "      <td>0.160860</td>\n",
       "      <td>0.262753</td>\n",
       "      <td>0.391601</td>\n",
       "      <td>0.889832</td>\n",
       "    </tr>\n",
       "    <tr>\n",
       "      <th>age</th>\n",
       "      <td>13710.0</td>\n",
       "      <td>49.147411</td>\n",
       "      <td>18.166699</td>\n",
       "      <td>18.000000</td>\n",
       "      <td>33.250000</td>\n",
       "      <td>49.000000</td>\n",
       "      <td>65.000000</td>\n",
       "      <td>80.000000</td>\n",
       "    </tr>\n",
       "    <tr>\n",
       "      <th>is_international</th>\n",
       "      <td>13713.0</td>\n",
       "      <td>0.498432</td>\n",
       "      <td>0.500016</td>\n",
       "      <td>0.000000</td>\n",
       "      <td>0.000000</td>\n",
       "      <td>0.000000</td>\n",
       "      <td>1.000000</td>\n",
       "      <td>1.000000</td>\n",
       "    </tr>\n",
       "    <tr>\n",
       "      <th>churn</th>\n",
       "      <td>14000.0</td>\n",
       "      <td>0.401214</td>\n",
       "      <td>0.490162</td>\n",
       "      <td>0.000000</td>\n",
       "      <td>0.000000</td>\n",
       "      <td>0.000000</td>\n",
       "      <td>1.000000</td>\n",
       "      <td>1.000000</td>\n",
       "    </tr>\n",
       "  </tbody>\n",
       "</table>\n",
       "</div>"
      ],
      "text/plain": [
       "                    count       mean        std        min        25%  \\\n",
       "tenure_months     13730.0  35.733430  20.650465   0.000000  18.000000   \n",
       "monthly_spend     13711.0  85.284376  29.782121  10.000000  65.187485   \n",
       "support_calls     13726.0   5.488708   3.459574   0.000000   3.000000   \n",
       "promo_eligible    13730.0   0.493955   0.499982   0.000000   0.000000   \n",
       "debt_ratio        13728.0   0.285614   0.160425   0.000678   0.160860   \n",
       "age               13710.0  49.147411  18.166699  18.000000  33.250000   \n",
       "is_international  13713.0   0.498432   0.500016   0.000000   0.000000   \n",
       "churn             14000.0   0.401214   0.490162   0.000000   0.000000   \n",
       "\n",
       "                        50%         75%         max  \n",
       "tenure_months     36.000000   54.000000   71.000000  \n",
       "monthly_spend     85.448481  105.423118  196.463627  \n",
       "support_calls      5.000000    9.000000   11.000000  \n",
       "promo_eligible     0.000000    1.000000    1.000000  \n",
       "debt_ratio         0.262753    0.391601    0.889832  \n",
       "age               49.000000   65.000000   80.000000  \n",
       "is_international   0.000000    1.000000    1.000000  \n",
       "churn              0.000000    1.000000    1.000000  "
      ]
     },
     "execution_count": 36,
     "metadata": {},
     "output_type": "execute_result"
    }
   ],
   "source": [
    "df.describe().T"
   ]
  },
  {
   "cell_type": "code",
   "execution_count": 38,
   "id": "699c26e5-257d-418e-be45-4da498a0255a",
   "metadata": {
    "tags": []
   },
   "outputs": [
    {
     "data": {
      "text/plain": [
       "churn\n",
       "0    8383\n",
       "1    5617\n",
       "Name: share, dtype: int64"
      ]
     },
     "execution_count": 38,
     "metadata": {},
     "output_type": "execute_result"
    }
   ],
   "source": [
    "df.churn.value_counts(normalize=False).rename(\"share\")"
   ]
  },
  {
   "cell_type": "code",
   "execution_count": 39,
   "id": "5768386f-2c13-4133-ae90-121e2becde7d",
   "metadata": {
    "tags": []
   },
   "outputs": [
    {
     "data": {
      "text/plain": [
       "churn\n",
       "0    0.598786\n",
       "1    0.401214\n",
       "Name: share, dtype: float64"
      ]
     },
     "execution_count": 39,
     "metadata": {},
     "output_type": "execute_result"
    }
   ],
   "source": [
    "df.churn.value_counts(normalize=True).rename(\"share\")"
   ]
  },
  {
   "cell_type": "code",
   "execution_count": 42,
   "id": "00ad0f3e-e0cd-430f-a343-40ddc38e7f2e",
   "metadata": {
    "tags": []
   },
   "outputs": [],
   "source": [
    "X = df.drop(columns=[\"churn\"])\n",
    "y = df[\"churn\"]"
   ]
  },
  {
   "cell_type": "code",
   "execution_count": 43,
   "id": "b7138b8b-3594-488f-8249-10221b30647a",
   "metadata": {
    "tags": []
   },
   "outputs": [],
   "source": [
    "# First cut: 80%-20% (train vs test)\n",
    "X_tr, X_te, y_tr, y_te = train_test_split(X, y, test_size=0.20, stratify=y, random_state=13)"
   ]
  },
  {
   "cell_type": "code",
   "execution_count": 45,
   "id": "707a86df-a028-40f9-860a-146fadb9aa59",
   "metadata": {
    "tags": []
   },
   "outputs": [],
   "source": [
    "# Second cut: From the training set, make a validation set (60% train, 20% validation, 20% test)\n",
    "X_tr, X_va, y_tr, y_va = train_test_split(X_tr, y_tr, test_size=0.25, stratify=y_tr, random_state=13)"
   ]
  },
  {
   "cell_type": "code",
   "execution_count": 46,
   "id": "e0ba0be4-3dd5-414a-90f9-ef737233c076",
   "metadata": {
    "tags": []
   },
   "outputs": [],
   "source": [
    "neg = int((y_tr == 0).sum())\n",
    "pos = int((y_tr == 1).sum())\n",
    "spw = neg/max(pos,1)"
   ]
  },
  {
   "cell_type": "code",
   "execution_count": 61,
   "id": "3a7fa514-a849-48ed-bedd-1922524d552b",
   "metadata": {
    "tags": []
   },
   "outputs": [
    {
     "name": "stdout",
     "output_type": "stream",
     "text": [
      "Train / Val / Test (6300, 7) (2100, 7) (2800, 7)\n",
      "neg: 3772, pos:2528, scale_positive_weight (spw):1.5\n"
     ]
    }
   ],
   "source": [
    "print(\"Train / Val / Test\", X_tr.shape, X_va.shape, X_te.shape)\n",
    "print(f\"neg: {neg}, pos:{pos}, scale_positive_weight (spw):{round(spw, 1)}\")"
   ]
  },
  {
   "cell_type": "code",
   "execution_count": 63,
   "id": "a801c29f-b83c-4069-b18f-43a6db479ab7",
   "metadata": {
    "tags": []
   },
   "outputs": [],
   "source": [
    "feat_names = list(X_tr.columns)\n",
    "\n",
    "dtr = xgb.DMatrix(X_tr, label=y_tr, feature_names=feat_names)\n",
    "dva = xgb.DMatrix(X_va, label=y_va, feature_names=feat_names)\n",
    "dte = xgb.DMatrix(X_te, label=y_te, feature_names=feat_names)"
   ]
  },
  {
   "cell_type": "code",
   "execution_count": 64,
   "id": "757c2383-3725-4ae0-bb54-a26663e386eb",
   "metadata": {
    "tags": []
   },
   "outputs": [
    {
     "name": "stdout",
     "output_type": "stream",
     "text": [
      "Best number of trees (early stopping chose this): 137\n"
     ]
    }
   ],
   "source": [
    "params = dict(\n",
    "    objective=\"binary:logistic\",  \n",
    "    eval_metric=\"aucpr\",          \n",
    "    tree_method=\"hist\",           \n",
    "    max_depth=5,\n",
    "    eta=0.03,                     \n",
    "    subsample=0.8,\n",
    "    colsample_bytree=0.8,\n",
    "    reg_lambda=1.0,\n",
    "    scale_pos_weight=spw\n",
    ")\n",
    "\n",
    "bst = xgb.train(\n",
    "    params=params,\n",
    "    dtrain=dtr,\n",
    "    num_boost_round=4000,         \n",
    "    evals=[(dva, \"val\")],         \n",
    "    early_stopping_rounds=200,    \n",
    "    verbose_eval=False\n",
    ")\n",
    "\n",
    "best_iter = bst.best_iteration\n",
    "print(\"Best number of trees (early stopping chose this):\", best_iter)"
   ]
  },
  {
   "cell_type": "markdown",
   "id": "8a7764eb-1188-4f14-ae36-a06e2bb543bf",
   "metadata": {
    "tags": []
   },
   "source": [
    "### Practical Decision Treshold on Validation"
   ]
  },
  {
   "cell_type": "code",
   "execution_count": 65,
   "id": "845afaef-90b2-4e90-9c86-db1b7da1fb83",
   "metadata": {
    "tags": []
   },
   "outputs": [
    {
     "name": "stdout",
     "output_type": "stream",
     "text": [
      "Chosen decision threshold t_best (max F1 on validation): 0.483\n"
     ]
    }
   ],
   "source": [
    "p_va = bst.predict(dva, iteration_range=(0, best_iter + 1))\n",
    "pre, rec, thr = precision_recall_curve(y_va, p_va)\n",
    "f1 = 2 * pre * rec / np.clip(pre + rec, 1e-9, None)\n",
    "t_best = float(thr[np.argmax(f1[:-1])])\n",
    "print(\"Chosen decision threshold t_best (max F1 on validation):\", round(t_best, 3))"
   ]
  },
  {
   "cell_type": "markdown",
   "id": "d968ff8b-f0d7-458b-a1c1-df4395544051",
   "metadata": {
    "tags": []
   },
   "source": [
    "## Confusion Matrix"
   ]
  },
  {
   "cell_type": "code",
   "execution_count": 66,
   "id": "11419d45-ade0-4b6c-b38e-b44fe68229b6",
   "metadata": {
    "tags": []
   },
   "outputs": [
    {
     "name": "stdout",
     "output_type": "stream",
     "text": [
      "Confusion matrix:\n",
      " [[1303  374]\n",
      " [ 239  884]]\n",
      "tn: 1303 fp: 374 fn: 239 tp: 884\n",
      "Precision: 0.703\n",
      "Recall: 0.787\n",
      "ROC AUC: 0.86 | PR AUC: 0.799\n"
     ]
    }
   ],
   "source": [
    "p_te = bst.predict(dte, iteration_range=(0, best_iter + 1))\n",
    "pred = (p_te >= t_best).astype(int)\n",
    "\n",
    "cm = confusion_matrix(y_te, pred)\n",
    "tn, fp, fn, tp = cm.ravel()\n",
    "\n",
    "print(\"Confusion matrix:\\n\", cm)\n",
    "print(\"tn:\", tn, \"fp:\", fp, \"fn:\", fn, \"tp:\", tp)\n",
    "print(\"Precision:\", round(precision_score(y_te, pred), 3))\n",
    "print(\"Recall:\", round(recall_score(y_te, pred), 3))\n",
    "print(\"ROC AUC:\", round(roc_auc_score(y_te, p_te), 3),\n",
    "      \"| PR AUC:\", round(average_precision_score(y_te, p_te), 3))"
   ]
  },
  {
   "cell_type": "code",
   "execution_count": 67,
   "id": "a9762499-bed4-4631-a665-801fcb6f21ed",
   "metadata": {
    "tags": []
   },
   "outputs": [],
   "source": [
    "imp = pd.Series(bst.get_score(importance_type=\"gain\")).sort_values(ascending=False)"
   ]
  },
  {
   "cell_type": "code",
   "execution_count": 68,
   "id": "9f067e84-8ff8-4b79-8e3a-2a8585dac502",
   "metadata": {
    "tags": []
   },
   "outputs": [
    {
     "data": {
      "text/html": [
       "<div>\n",
       "<style scoped>\n",
       "    .dataframe tbody tr th:only-of-type {\n",
       "        vertical-align: middle;\n",
       "    }\n",
       "\n",
       "    .dataframe tbody tr th {\n",
       "        vertical-align: top;\n",
       "    }\n",
       "\n",
       "    .dataframe thead th {\n",
       "        text-align: right;\n",
       "    }\n",
       "</style>\n",
       "<table border=\"1\" class=\"dataframe\">\n",
       "  <thead>\n",
       "    <tr style=\"text-align: right;\">\n",
       "      <th></th>\n",
       "      <th>gain</th>\n",
       "    </tr>\n",
       "  </thead>\n",
       "  <tbody>\n",
       "    <tr>\n",
       "      <th>support_calls</th>\n",
       "      <td>32.823067</td>\n",
       "    </tr>\n",
       "    <tr>\n",
       "      <th>promo_eligible</th>\n",
       "      <td>8.211391</td>\n",
       "    </tr>\n",
       "    <tr>\n",
       "      <th>age</th>\n",
       "      <td>6.784165</td>\n",
       "    </tr>\n",
       "    <tr>\n",
       "      <th>is_international</th>\n",
       "      <td>5.141154</td>\n",
       "    </tr>\n",
       "    <tr>\n",
       "      <th>debt_ratio</th>\n",
       "      <td>4.812185</td>\n",
       "    </tr>\n",
       "    <tr>\n",
       "      <th>tenure_months</th>\n",
       "      <td>4.321021</td>\n",
       "    </tr>\n",
       "    <tr>\n",
       "      <th>monthly_spend</th>\n",
       "      <td>3.857061</td>\n",
       "    </tr>\n",
       "  </tbody>\n",
       "</table>\n",
       "</div>"
      ],
      "text/plain": [
       "                       gain\n",
       "support_calls     32.823067\n",
       "promo_eligible     8.211391\n",
       "age                6.784165\n",
       "is_international   5.141154\n",
       "debt_ratio         4.812185\n",
       "tenure_months      4.321021\n",
       "monthly_spend      3.857061"
      ]
     },
     "execution_count": 68,
     "metadata": {},
     "output_type": "execute_result"
    }
   ],
   "source": [
    "imp.head(10).to_frame(\"gain\")"
   ]
  },
  {
   "cell_type": "code",
   "execution_count": 70,
   "id": "cabd2b93-463c-4d85-94e4-10dd54524599",
   "metadata": {
    "tags": []
   },
   "outputs": [
    {
     "data": {
      "text/html": [
       "<div>\n",
       "<style scoped>\n",
       "    .dataframe tbody tr th:only-of-type {\n",
       "        vertical-align: middle;\n",
       "    }\n",
       "\n",
       "    .dataframe tbody tr th {\n",
       "        vertical-align: top;\n",
       "    }\n",
       "\n",
       "    .dataframe thead th {\n",
       "        text-align: right;\n",
       "    }\n",
       "</style>\n",
       "<table border=\"1\" class=\"dataframe\">\n",
       "  <thead>\n",
       "    <tr style=\"text-align: right;\">\n",
       "      <th></th>\n",
       "      <th>support_calls</th>\n",
       "      <th>predicted_churn</th>\n",
       "    </tr>\n",
       "  </thead>\n",
       "  <tbody>\n",
       "    <tr>\n",
       "      <th>0</th>\n",
       "      <td>0.0</td>\n",
       "      <td>0.071968</td>\n",
       "    </tr>\n",
       "    <tr>\n",
       "      <th>1</th>\n",
       "      <td>1.0</td>\n",
       "      <td>0.085467</td>\n",
       "    </tr>\n",
       "    <tr>\n",
       "      <th>2</th>\n",
       "      <td>2.0</td>\n",
       "      <td>0.150604</td>\n",
       "    </tr>\n",
       "    <tr>\n",
       "      <th>3</th>\n",
       "      <td>3.0</td>\n",
       "      <td>0.197384</td>\n",
       "    </tr>\n",
       "    <tr>\n",
       "      <th>4</th>\n",
       "      <td>4.0</td>\n",
       "      <td>0.222535</td>\n",
       "    </tr>\n",
       "    <tr>\n",
       "      <th>5</th>\n",
       "      <td>5.0</td>\n",
       "      <td>0.299495</td>\n",
       "    </tr>\n",
       "    <tr>\n",
       "      <th>6</th>\n",
       "      <td>6.0</td>\n",
       "      <td>0.329948</td>\n",
       "    </tr>\n",
       "    <tr>\n",
       "      <th>7</th>\n",
       "      <td>7.0</td>\n",
       "      <td>0.502100</td>\n",
       "    </tr>\n",
       "    <tr>\n",
       "      <th>8</th>\n",
       "      <td>8.0</td>\n",
       "      <td>0.567580</td>\n",
       "    </tr>\n",
       "    <tr>\n",
       "      <th>9</th>\n",
       "      <td>9.0</td>\n",
       "      <td>0.688190</td>\n",
       "    </tr>\n",
       "    <tr>\n",
       "      <th>10</th>\n",
       "      <td>10.0</td>\n",
       "      <td>0.780318</td>\n",
       "    </tr>\n",
       "    <tr>\n",
       "      <th>11</th>\n",
       "      <td>11.0</td>\n",
       "      <td>0.830100</td>\n",
       "    </tr>\n",
       "  </tbody>\n",
       "</table>\n",
       "</div>"
      ],
      "text/plain": [
       "    support_calls  predicted_churn\n",
       "0             0.0         0.071968\n",
       "1             1.0         0.085467\n",
       "2             2.0         0.150604\n",
       "3             3.0         0.197384\n",
       "4             4.0         0.222535\n",
       "5             5.0         0.299495\n",
       "6             6.0         0.329948\n",
       "7             7.0         0.502100\n",
       "8             8.0         0.567580\n",
       "9             9.0         0.688190\n",
       "10           10.0         0.780318\n",
       "11           11.0         0.830100"
      ]
     },
     "execution_count": 70,
     "metadata": {},
     "output_type": "execute_result"
    }
   ],
   "source": [
    "top_feat = imp.index[0]\n",
    "vals = X_te[top_feat].dropna()\n",
    "grid = np.linspace(vals.quantile(0.05), vals.quantile(0.95), 12)\n",
    "\n",
    "Xg = pd.DataFrame([X_te.median(numeric_only=True).values]*len(grid), columns=X_te.columns)\n",
    "Xg[top_feat] = grid\n",
    "\n",
    "pred = bst.predict(xgb.DMatrix(Xg, feature_names=list(X_te.columns)),\n",
    "                   iteration_range=(0, bst.best_iteration + 1))\n",
    "\n",
    "pd.DataFrame({top_feat: grid, \"predicted_churn\": pred})"
   ]
  },
  {
   "cell_type": "code",
   "execution_count": 72,
   "id": "ef176180-7042-4f9e-b5b5-f9838d746aee",
   "metadata": {
    "tags": []
   },
   "outputs": [
    {
     "name": "stdout",
     "output_type": "stream",
     "text": [
      "Trend hint for support_calls: increasing\n"
     ]
    }
   ],
   "source": [
    "trend = np.sign(np.nanmean(np.diff(pred)))\n",
    "print(f\"Trend hint for {top_feat}:\",\n",
    "      \"increasing\" if trend>0 else \"decreasing\" if trend<0 else \"flat/mixed\")"
   ]
  },
  {
   "cell_type": "code",
   "execution_count": 74,
   "id": "bf6329d6-0ea5-4039-8eb6-b02661a275b9",
   "metadata": {
    "tags": []
   },
   "outputs": [],
   "source": [
    "bst.save_model(\"easy_xgb_base.ubj\")"
   ]
  },
  {
   "cell_type": "code",
   "execution_count": 76,
   "id": "55c40629-fe7e-49a6-b5de-1cd9e3184519",
   "metadata": {
    "tags": []
   },
   "outputs": [
    {
     "name": "stdout",
     "output_type": "stream",
     "text": [
      "Monotone constraints: (-1,0,0,0,1,0,0)\n",
      "Constrained model best trees: 158\n"
     ]
    }
   ],
   "source": [
    "feat_names = list(X_tr.columns)\n",
    "cons = [0]*len(feat_names)\n",
    "if \"debt_ratio\" in feat_names:\n",
    "    cons[feat_names.index(\"debt_ratio\")] = 1      # +1 = non-decreasing effect\n",
    "if \"tenure_months\" in feat_names:\n",
    "    cons[feat_names.index(\"tenure_months\")] = -1  # -1 = non-increasing effect\n",
    "mono = \"(\" + \",\".join(map(str, cons)) + \")\"\n",
    "print(\"Monotone constraints:\", mono)\n",
    "\n",
    "params_cons = params.copy()\n",
    "params_cons.update({\"monotone_constraints\": mono, \"max_bin\": 512})\n",
    "\n",
    "bst_cons = xgb.train(\n",
    "    params=params_cons,\n",
    "    dtrain=dtr,\n",
    "    num_boost_round=4000,\n",
    "    evals=[(dva, \"val\")],\n",
    "    early_stopping_rounds=200,\n",
    "    verbose_eval=False\n",
    ")\n",
    "print(\"Constrained model best trees:\", bst_cons.best_iteration)"
   ]
  },
  {
   "cell_type": "code",
   "execution_count": 77,
   "id": "a33b10d5-2b01-42a2-99c6-cae85aab6aa9",
   "metadata": {
    "tags": []
   },
   "outputs": [
    {
     "name": "stdout",
     "output_type": "stream",
     "text": [
      "PR AUC  baseline     : 0.799\n",
      "PR AUC  constrained  : 0.801\n",
      "ROC AUC baseline     : 0.86\n",
      "ROC AUC constrained  : 0.861\n"
     ]
    }
   ],
   "source": [
    "p_base = bst.predict(dte, iteration_range=(0, bst.best_iteration + 1))\n",
    "p_cons = bst_cons.predict(dte, iteration_range=(0, bst_cons.best_iteration + 1))\n",
    "\n",
    "print(\"PR AUC  baseline     :\", round(average_precision_score(y_te, p_base), 3))\n",
    "print(\"PR AUC  constrained  :\", round(average_precision_score(y_te, p_cons), 3))\n",
    "print(\"ROC AUC baseline     :\", round(roc_auc_score(y_te, p_base), 3))\n",
    "print(\"ROC AUC constrained  :\", round(roc_auc_score(y_te, p_cons), 3))\n"
   ]
  },
  {
   "cell_type": "code",
   "execution_count": 78,
   "id": "4382761f-9453-4d41-b7cb-27bf7281ccc4",
   "metadata": {
    "tags": []
   },
   "outputs": [
    {
     "name": "stdout",
     "output_type": "stream",
     "text": [
      "Debt ratio monotonic violations (should be 0): 0\n",
      "Tenure months monotonic violations (should be 0): 0\n",
      "\n",
      "debt_ratio preview (first 6 rows):\n"
     ]
    },
    {
     "data": {
      "text/html": [
       "<div>\n",
       "<style scoped>\n",
       "    .dataframe tbody tr th:only-of-type {\n",
       "        vertical-align: middle;\n",
       "    }\n",
       "\n",
       "    .dataframe tbody tr th {\n",
       "        vertical-align: top;\n",
       "    }\n",
       "\n",
       "    .dataframe thead th {\n",
       "        text-align: right;\n",
       "    }\n",
       "</style>\n",
       "<table border=\"1\" class=\"dataframe\">\n",
       "  <thead>\n",
       "    <tr style=\"text-align: right;\">\n",
       "      <th></th>\n",
       "      <th>debt_ratio</th>\n",
       "      <th>predicted_churn</th>\n",
       "    </tr>\n",
       "  </thead>\n",
       "  <tbody>\n",
       "    <tr>\n",
       "      <th>0</th>\n",
       "      <td>0.059572</td>\n",
       "      <td>0.206930</td>\n",
       "    </tr>\n",
       "    <tr>\n",
       "      <th>1</th>\n",
       "      <td>0.081137</td>\n",
       "      <td>0.248736</td>\n",
       "    </tr>\n",
       "    <tr>\n",
       "      <th>2</th>\n",
       "      <td>0.102701</td>\n",
       "      <td>0.277456</td>\n",
       "    </tr>\n",
       "    <tr>\n",
       "      <th>3</th>\n",
       "      <td>0.124266</td>\n",
       "      <td>0.281545</td>\n",
       "    </tr>\n",
       "    <tr>\n",
       "      <th>4</th>\n",
       "      <td>0.145830</td>\n",
       "      <td>0.293937</td>\n",
       "    </tr>\n",
       "    <tr>\n",
       "      <th>5</th>\n",
       "      <td>0.167394</td>\n",
       "      <td>0.293937</td>\n",
       "    </tr>\n",
       "  </tbody>\n",
       "</table>\n",
       "</div>"
      ],
      "text/plain": [
       "   debt_ratio  predicted_churn\n",
       "0    0.059572         0.206930\n",
       "1    0.081137         0.248736\n",
       "2    0.102701         0.277456\n",
       "3    0.124266         0.281545\n",
       "4    0.145830         0.293937\n",
       "5    0.167394         0.293937"
      ]
     },
     "metadata": {},
     "output_type": "display_data"
    },
    {
     "name": "stdout",
     "output_type": "stream",
     "text": [
      "\n",
      "tenure_months preview (first 6 rows):\n"
     ]
    },
    {
     "data": {
      "text/html": [
       "<div>\n",
       "<style scoped>\n",
       "    .dataframe tbody tr th:only-of-type {\n",
       "        vertical-align: middle;\n",
       "    }\n",
       "\n",
       "    .dataframe tbody tr th {\n",
       "        vertical-align: top;\n",
       "    }\n",
       "\n",
       "    .dataframe thead th {\n",
       "        text-align: right;\n",
       "    }\n",
       "</style>\n",
       "<table border=\"1\" class=\"dataframe\">\n",
       "  <thead>\n",
       "    <tr style=\"text-align: right;\">\n",
       "      <th></th>\n",
       "      <th>tenure_months</th>\n",
       "      <th>predicted_churn</th>\n",
       "    </tr>\n",
       "  </thead>\n",
       "  <tbody>\n",
       "    <tr>\n",
       "      <th>0</th>\n",
       "      <td>3.000000</td>\n",
       "      <td>0.429317</td>\n",
       "    </tr>\n",
       "    <tr>\n",
       "      <th>1</th>\n",
       "      <td>5.708333</td>\n",
       "      <td>0.429317</td>\n",
       "    </tr>\n",
       "    <tr>\n",
       "      <th>2</th>\n",
       "      <td>8.416667</td>\n",
       "      <td>0.420339</td>\n",
       "    </tr>\n",
       "    <tr>\n",
       "      <th>3</th>\n",
       "      <td>11.125000</td>\n",
       "      <td>0.413353</td>\n",
       "    </tr>\n",
       "    <tr>\n",
       "      <th>4</th>\n",
       "      <td>13.833333</td>\n",
       "      <td>0.410043</td>\n",
       "    </tr>\n",
       "    <tr>\n",
       "      <th>5</th>\n",
       "      <td>16.541667</td>\n",
       "      <td>0.377445</td>\n",
       "    </tr>\n",
       "  </tbody>\n",
       "</table>\n",
       "</div>"
      ],
      "text/plain": [
       "   tenure_months  predicted_churn\n",
       "0       3.000000         0.429317\n",
       "1       5.708333         0.429317\n",
       "2       8.416667         0.420339\n",
       "3      11.125000         0.413353\n",
       "4      13.833333         0.410043\n",
       "5      16.541667         0.377445"
      ]
     },
     "metadata": {},
     "output_type": "display_data"
    }
   ],
   "source": [
    "def rule_check(booster, feature, direction, df_like, n_points=25):\n",
    "    if feature not in df_like.columns:\n",
    "        return None, None, None\n",
    "    vals = df_like[feature].dropna()\n",
    "    grid = np.linspace(vals.quantile(0.05), vals.quantile(0.95), n_points)\n",
    "    Xg = pd.DataFrame([df_like.median(numeric_only=True).values]*n_points, columns=df_like.columns)\n",
    "    Xg[feature] = grid\n",
    "    pred = booster.predict(xgb.DMatrix(Xg, feature_names=list(df_like.columns)),\n",
    "                           iteration_range=(0, (booster.best_iteration or 0) + 1))\n",
    "    diffs = np.diff(pred)\n",
    "    if direction == \"nondecreasing\":\n",
    "        violations = int((diffs < -1e-9).sum())\n",
    "    else:  # nonincreasing\n",
    "        violations = int((diffs >  1e-9).sum())\n",
    "    sample = pd.DataFrame({feature: grid[:6], \"predicted_churn\": pred[:6]})\n",
    "    return violations, grid, sample\n",
    "\n",
    "viol_dr, grid_dr, sample_dr = rule_check(bst_cons, \"debt_ratio\", \"nondecreasing\", X_te)\n",
    "viol_tn, grid_tn, sample_tn = rule_check(bst_cons, \"tenure_months\", \"nonincreasing\", X_te)\n",
    "\n",
    "print(\"Debt ratio monotonic violations (should be 0):\", viol_dr if viol_dr is not None else \"feature missing\")\n",
    "print(\"Tenure months monotonic violations (should be 0):\", viol_tn if viol_tn is not None else \"feature missing\")\n",
    "\n",
    "# Show a tiny preview table so you can eyeball the trend\n",
    "if sample_dr is not None:\n",
    "    print(\"\\ndebt_ratio preview (first 6 rows):\")\n",
    "    display(sample_dr)\n",
    "if sample_tn is not None:\n",
    "    print(\"\\ntenure_months preview (first 6 rows):\")\n",
    "    display(sample_tn)"
   ]
  },
  {
   "cell_type": "code",
   "execution_count": 79,
   "id": "90d2f5b9-58de-4345-8fce-db002a5947f4",
   "metadata": {
    "tags": []
   },
   "outputs": [],
   "source": [
    "bst_cons.save_model(\"easy_xgb_cons.ubj\")"
   ]
  },
  {
   "cell_type": "code",
   "execution_count": null,
   "id": "3eb50bed-cef7-498e-b3e1-f11f4eb67ca7",
   "metadata": {},
   "outputs": [],
   "source": []
  }
 ],
 "metadata": {
  "kernelspec": {
   "display_name": "Python 3.13 (conda)",
   "language": "python",
   "name": "py313"
  },
  "language_info": {
   "codemirror_mode": {
    "name": "ipython",
    "version": 3
   },
   "file_extension": ".py",
   "mimetype": "text/x-python",
   "name": "python",
   "nbconvert_exporter": "python",
   "pygments_lexer": "ipython3",
   "version": "3.13.7"
  }
 },
 "nbformat": 4,
 "nbformat_minor": 5
}
