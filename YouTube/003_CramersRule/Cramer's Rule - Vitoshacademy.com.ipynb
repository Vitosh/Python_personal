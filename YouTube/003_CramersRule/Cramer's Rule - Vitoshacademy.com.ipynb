{
 "cells": [
  {
   "cell_type": "code",
   "execution_count": 1,
   "id": "3e0d80e2",
   "metadata": {},
   "outputs": [],
   "source": [
    "coefficients = [\n",
    "    [82, 45, 9],\n",
    "    [27, 16, 3],\n",
    "    [9,   5, 1]\n",
    "]\n",
    "\n",
    "results = [1, 1, 0]"
   ]
  },
  {
   "cell_type": "code",
   "execution_count": 2,
   "id": "fd2879eb",
   "metadata": {},
   "outputs": [],
   "source": [
    "def determinant_of_3x3_matrix(matrix):\n",
    "    result  = (matrix[0][0] * (matrix[1][1] * matrix[2][2] - matrix[2][1]*matrix[1][2])\n",
    "           ) -(matrix[0][1] * (matrix[1][0] * matrix[2][2] - matrix[1][2]*matrix[2][0])\n",
    "           ) +(matrix[0][2] * (matrix[1][0] * matrix[2][1] - matrix[1][1]*matrix[2][0]))\n",
    "    return result"
   ]
  },
  {
   "cell_type": "code",
   "execution_count": 3,
   "id": "dada0897",
   "metadata": {},
   "outputs": [],
   "source": [
    "def solve_cramer(coefficients, results):\n",
    "    d = [\n",
    "        [coefficients[0][0],coefficients[0][1],coefficients[0][2]],\n",
    "        [coefficients[1][0],coefficients[1][1],coefficients[1][2]],\n",
    "        [coefficients[2][0],coefficients[2][1],coefficients[2][2]]\n",
    "    ]\n",
    "    d1 = [\n",
    "        [results[0], coefficients[0][1],coefficients[0][2]],\n",
    "        [results[1], coefficients[1][1],coefficients[1][2]],\n",
    "        [results[2], coefficients[2][1],coefficients[2][2]]\n",
    "    ]\n",
    "    d2 = [\n",
    "        [coefficients[0][0],results[0],coefficients[0][2]],\n",
    "        [coefficients[1][0],results[1],coefficients[1][2]],\n",
    "        [coefficients[2][0],results[2],coefficients[2][2]]\n",
    "    ]\n",
    "    d3 = [\n",
    "        [coefficients[0][0],coefficients[0][1],results[0]],\n",
    "        [coefficients[1][0],coefficients[1][1],results[1]],\n",
    "        [coefficients[2][0],coefficients[2][1],results[2]]\n",
    "    ]\n",
    "    \n",
    "    determinant_matrix = determinant_of_3x3_matrix(d)\n",
    "    determinant_d1 = determinant_of_3x3_matrix(d1)\n",
    "    determinant_d2 = determinant_of_3x3_matrix(d2)    \n",
    "    determinant_d3 = determinant_of_3x3_matrix(d3)\n",
    "    \n",
    "    print(f'determinant_matrix is {determinant_matrix}')\n",
    "    print(f'determinant_d1 is {determinant_d1}')\n",
    "    print(f'determinant_d2 is {determinant_d2}')\n",
    "    print(f'determinant_d3 is {determinant_d3}')\n",
    "    \n",
    "    if determinant_matrix == 0:\n",
    "        if (determinant_d1 == 0 and determinant_d2 == 0 and determinant_d3 == 0):\n",
    "            return \"Infinite number of solutions\"\n",
    "        else:\n",
    "            return \"No solutions\"\n",
    "    else:\n",
    "        x = determinant_d1 / determinant_matrix\n",
    "        y = determinant_d2 / determinant_matrix\n",
    "        z = determinant_d3 / determinant_matrix\n",
    "        \n",
    "        print(f'x = {x}')\n",
    "        print(f'y = {y}')\n",
    "        print(f'z = {z}')\n",
    "        \n",
    "    return \"Solution found!\""
   ]
  },
  {
   "cell_type": "code",
   "execution_count": 4,
   "id": "5551251b",
   "metadata": {},
   "outputs": [
    {
     "name": "stdout",
     "output_type": "stream",
     "text": [
      "determinant_matrix is 1\n",
      "determinant_d1 is 1\n",
      "determinant_d2 is 1\n",
      "determinant_d3 is -14\n",
      "x = 1.0\n",
      "y = 1.0\n",
      "z = -14.0\n"
     ]
    },
    {
     "data": {
      "text/plain": [
       "'Solution found!'"
      ]
     },
     "execution_count": 4,
     "metadata": {},
     "output_type": "execute_result"
    }
   ],
   "source": [
    "solve_cramer(coefficients, results)"
   ]
  },
  {
   "cell_type": "code",
   "execution_count": null,
   "id": "7b2d9c6f",
   "metadata": {},
   "outputs": [],
   "source": []
  }
 ],
 "metadata": {
  "kernelspec": {
   "display_name": "Python 3 (ipykernel)",
   "language": "python",
   "name": "python3"
  },
  "language_info": {
   "codemirror_mode": {
    "name": "ipython",
    "version": 3
   },
   "file_extension": ".py",
   "mimetype": "text/x-python",
   "name": "python",
   "nbconvert_exporter": "python",
   "pygments_lexer": "ipython3",
   "version": "3.9.13"
  }
 },
 "nbformat": 4,
 "nbformat_minor": 5
}
