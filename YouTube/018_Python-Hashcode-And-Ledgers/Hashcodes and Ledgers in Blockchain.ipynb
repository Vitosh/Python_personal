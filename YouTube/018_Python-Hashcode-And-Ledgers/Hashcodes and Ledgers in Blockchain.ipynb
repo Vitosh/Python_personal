{
 "cells": [
  {
   "cell_type": "code",
   "execution_count": 19,
   "id": "86d0e672",
   "metadata": {
    "scrolled": true
   },
   "outputs": [],
   "source": [
    "import hashlib\n",
    "import time"
   ]
  },
  {
   "cell_type": "code",
   "execution_count": 20,
   "id": "4ced33af",
   "metadata": {},
   "outputs": [],
   "source": [
    "class Block:\n",
    "    def __init__(self, index, previous_hash, timestamp, data, hash_value):\n",
    "        self.index = index                      # Position of the block in the chain\n",
    "        self.previous_hash = previous_hash      # Hash of the previous block\n",
    "        self.timestamp = timestamp              # Time when the block was created\n",
    "        self.data = data                        # Data stored in the block\n",
    "        self.hash = hash_value                  # Hash of the current block\n",
    "\n",
    "    def __repr__(self):\n",
    "        return (f\"Block(Index: {self.index}, \"\n",
    "                f\"Previous Hash: {self.previous_hash}, \"\n",
    "                f\"Hash: {self.hash}, \"\n",
    "                f\"Timestamp: {self.timestamp}, \"\n",
    "                f\"Data: {self.data})\")"
   ]
  },
  {
   "cell_type": "code",
   "execution_count": 21,
   "id": "d77ab4bc",
   "metadata": {},
   "outputs": [],
   "source": [
    "class Miner:\n",
    "    def __init__(self, id):\n",
    "        self.id = id          \n",
    "        self.difficulty = 3   \n",
    "\n",
    "    def mine_block(self, blockchain, data):\n",
    "        index = len(blockchain.chain) + 1  \n",
    "        previous_hash = blockchain.chain[-1].hash if blockchain.chain else '0'  \n",
    "        timestamp = time.time()              \n",
    "        nonce = 0                            \n",
    "        hash_value = self.calculate_hash(index, previous_hash, timestamp, data, nonce)\n",
    "\n",
    "        # Keep incrementing the nonce until a valid hash is found\n",
    "        while hash_value[:self.difficulty] != \"0\" * self.difficulty:\n",
    "            nonce += 1\n",
    "            hash_value = self.calculate_hash(index, previous_hash, timestamp, data, nonce)\n",
    "\n",
    "        new_block = Block(index, previous_hash, timestamp, data, hash_value)\n",
    "        blockchain.add_block(new_block)       \n",
    "        print(f\"Miner {self.id} mined block {index} with hash: {hash_value} (Previous Hash: {previous_hash}, Nonce: {nonce})\")\n",
    "\n",
    "    def calculate_hash(self, index, previous_hash, timestamp, data, nonce):\n",
    "        value = str(index) + previous_hash + str(timestamp) + data + str(nonce)\n",
    "        return hashlib.sha1(value.encode()).hexdigest()[:8]"
   ]
  },
  {
   "cell_type": "code",
   "execution_count": 22,
   "id": "55785f17",
   "metadata": {},
   "outputs": [],
   "source": [
    "class Blockchain:\n",
    "    def __init__(self):\n",
    "        self.chain = [self.create_genesis_block()]\n",
    "\n",
    "    def create_genesis_block(self):\n",
    "        return Block(0, \"0\", time.time(), \"Genesis Block\", \"genesis_hash\")\n",
    "\n",
    "    def add_block(self, block):\n",
    "        \"\"\"Add a mined block to the chain.\"\"\"\n",
    "        self.chain.append(block)  \n",
    "\n",
    "    def print_chain(self):\n",
    "        for block in self.chain:\n",
    "            print(block)  "
   ]
  },
  {
   "cell_type": "code",
   "execution_count": 23,
   "id": "a50eca98",
   "metadata": {},
   "outputs": [
    {
     "name": "stdout",
     "output_type": "stream",
     "text": [
      "Miner 10 mined block 2 with hash: 00084078 (Previous Hash: genesis_hash, Nonce: 695)\n",
      "Miner 11 mined block 3 with hash: 000dac9a (Previous Hash: 00084078, Nonce: 9506)\n",
      "Miner 12 mined block 4 with hash: 000fe59c (Previous Hash: 000dac9a, Nonce: 2630)\n",
      "\n",
      "Blockchain ledger:\n",
      "Block(Index: 0, Previous Hash: 0, Hash: genesis_hash, Timestamp: 1729453122.834605, Data: Genesis Block)\n",
      "Block(Index: 2, Previous Hash: genesis_hash, Hash: 00084078, Timestamp: 1729453122.834605, Data: Transaction data)\n",
      "Block(Index: 3, Previous Hash: 00084078, Hash: 000dac9a, Timestamp: 1729453122.8391829, Data: Transaction data)\n",
      "Block(Index: 4, Previous Hash: 000dac9a, Hash: 000fe59c, Timestamp: 1729453122.8807003, Data: Transaction data)\n"
     ]
    }
   ],
   "source": [
    "def simulate_mining():\n",
    "    blockchain = Blockchain()  \n",
    "    miners = [Miner(i) for i in range(10, 13)]  \n",
    "\n",
    "    for miner in miners:\n",
    "        miner.mine_block(blockchain, \"Transaction data\")  # Mine a block\n",
    "\n",
    "    print(\"\\nBlockchain ledger:\")\n",
    "    blockchain.print_chain()\n",
    "\n",
    "\n",
    "simulate_mining()  # Run the simulation"
   ]
  },
  {
   "cell_type": "code",
   "execution_count": null,
   "id": "27dac45f",
   "metadata": {},
   "outputs": [],
   "source": []
  }
 ],
 "metadata": {
  "kernelspec": {
   "display_name": "Python 3 (ipykernel)",
   "language": "python",
   "name": "python3"
  },
  "language_info": {
   "codemirror_mode": {
    "name": "ipython",
    "version": 3
   },
   "file_extension": ".py",
   "mimetype": "text/x-python",
   "name": "python",
   "nbconvert_exporter": "python",
   "pygments_lexer": "ipython3",
   "version": "3.9.13"
  }
 },
 "nbformat": 4,
 "nbformat_minor": 5
}
