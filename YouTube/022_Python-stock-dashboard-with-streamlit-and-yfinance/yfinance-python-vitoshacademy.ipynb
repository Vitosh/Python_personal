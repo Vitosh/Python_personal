{
 "cells": [
  {
   "cell_type": "code",
   "execution_count": 1,
   "id": "9267612e",
   "metadata": {},
   "outputs": [],
   "source": [
    "import yfinance as yf\n",
    "import matplotlib.pyplot as plt"
   ]
  },
  {
   "cell_type": "code",
   "execution_count": 2,
   "id": "08ae8a74",
   "metadata": {},
   "outputs": [
    {
     "name": "stderr",
     "output_type": "stream",
     "text": [
      "[*********************100%***********************]  1 of 1 completed\n"
     ]
    }
   ],
   "source": [
    "msft = yf.download(\"MSFT\", start=\"1990-01-01\", end=\"2025-01-02\")"
   ]
  },
  {
   "cell_type": "code",
   "execution_count": 3,
   "id": "62e8d32c",
   "metadata": {},
   "outputs": [
    {
     "data": {
      "text/html": [
       "<div>\n",
       "<style scoped>\n",
       "    .dataframe tbody tr th:only-of-type {\n",
       "        vertical-align: middle;\n",
       "    }\n",
       "\n",
       "    .dataframe tbody tr th {\n",
       "        vertical-align: top;\n",
       "    }\n",
       "\n",
       "    .dataframe thead tr th {\n",
       "        text-align: left;\n",
       "    }\n",
       "\n",
       "    .dataframe thead tr:last-of-type th {\n",
       "        text-align: right;\n",
       "    }\n",
       "</style>\n",
       "<table border=\"1\" class=\"dataframe\">\n",
       "  <thead>\n",
       "    <tr>\n",
       "      <th>Price</th>\n",
       "      <th>Close</th>\n",
       "      <th>High</th>\n",
       "      <th>Low</th>\n",
       "      <th>Open</th>\n",
       "      <th>Volume</th>\n",
       "    </tr>\n",
       "    <tr>\n",
       "      <th>Ticker</th>\n",
       "      <th>MSFT</th>\n",
       "      <th>MSFT</th>\n",
       "      <th>MSFT</th>\n",
       "      <th>MSFT</th>\n",
       "      <th>MSFT</th>\n",
       "    </tr>\n",
       "    <tr>\n",
       "      <th>Date</th>\n",
       "      <th></th>\n",
       "      <th></th>\n",
       "      <th></th>\n",
       "      <th></th>\n",
       "      <th></th>\n",
       "    </tr>\n",
       "  </thead>\n",
       "  <tbody>\n",
       "    <tr>\n",
       "      <th>2024-12-24</th>\n",
       "      <td>439.329987</td>\n",
       "      <td>439.600006</td>\n",
       "      <td>434.190002</td>\n",
       "      <td>434.649994</td>\n",
       "      <td>7164500</td>\n",
       "    </tr>\n",
       "    <tr>\n",
       "      <th>2024-12-26</th>\n",
       "      <td>438.109985</td>\n",
       "      <td>440.940002</td>\n",
       "      <td>436.630005</td>\n",
       "      <td>439.079987</td>\n",
       "      <td>8194200</td>\n",
       "    </tr>\n",
       "    <tr>\n",
       "      <th>2024-12-27</th>\n",
       "      <td>430.529999</td>\n",
       "      <td>435.220001</td>\n",
       "      <td>426.350006</td>\n",
       "      <td>434.600006</td>\n",
       "      <td>18117700</td>\n",
       "    </tr>\n",
       "    <tr>\n",
       "      <th>2024-12-30</th>\n",
       "      <td>424.829987</td>\n",
       "      <td>427.549988</td>\n",
       "      <td>421.899994</td>\n",
       "      <td>426.059998</td>\n",
       "      <td>13158700</td>\n",
       "    </tr>\n",
       "    <tr>\n",
       "      <th>2024-12-31</th>\n",
       "      <td>421.500000</td>\n",
       "      <td>426.730011</td>\n",
       "      <td>420.660004</td>\n",
       "      <td>426.100006</td>\n",
       "      <td>13246500</td>\n",
       "    </tr>\n",
       "  </tbody>\n",
       "</table>\n",
       "</div>"
      ],
      "text/plain": [
       "Price            Close        High         Low        Open    Volume\n",
       "Ticker            MSFT        MSFT        MSFT        MSFT      MSFT\n",
       "Date                                                                \n",
       "2024-12-24  439.329987  439.600006  434.190002  434.649994   7164500\n",
       "2024-12-26  438.109985  440.940002  436.630005  439.079987   8194200\n",
       "2024-12-27  430.529999  435.220001  426.350006  434.600006  18117700\n",
       "2024-12-30  424.829987  427.549988  421.899994  426.059998  13158700\n",
       "2024-12-31  421.500000  426.730011  420.660004  426.100006  13246500"
      ]
     },
     "execution_count": 3,
     "metadata": {},
     "output_type": "execute_result"
    }
   ],
   "source": [
    "msft.tail()"
   ]
  },
  {
   "cell_type": "code",
   "execution_count": 4,
   "id": "fe699a2f",
   "metadata": {},
   "outputs": [],
   "source": [
    "msft_ticker = yf.Ticker(\"MSFT\")"
   ]
  },
  {
   "cell_type": "code",
   "execution_count": 5,
   "id": "4af6618b",
   "metadata": {},
   "outputs": [
    {
     "data": {
      "text/plain": [
       "366.5"
      ]
     },
     "execution_count": 5,
     "metadata": {},
     "output_type": "execute_result"
    }
   ],
   "source": [
    "msft_ticker.info['fiftyTwoWeekLow']"
   ]
  },
  {
   "cell_type": "code",
   "execution_count": 6,
   "id": "25f7ba6f",
   "metadata": {},
   "outputs": [
    {
     "data": {
      "text/plain": [
       "'Mr. Satya  Nadella'"
      ]
     },
     "execution_count": 6,
     "metadata": {},
     "output_type": "execute_result"
    }
   ],
   "source": [
    "msft_ticker.info['companyOfficers'][0]['name']"
   ]
  },
  {
   "cell_type": "code",
   "execution_count": 7,
   "id": "fa17e538",
   "metadata": {},
   "outputs": [],
   "source": [
    "historical_prices = msft_ticker.history(period='max')"
   ]
  },
  {
   "cell_type": "code",
   "execution_count": 8,
   "id": "1cb8d11e",
   "metadata": {},
   "outputs": [
    {
     "data": {
      "text/html": [
       "<div>\n",
       "<style scoped>\n",
       "    .dataframe tbody tr th:only-of-type {\n",
       "        vertical-align: middle;\n",
       "    }\n",
       "\n",
       "    .dataframe tbody tr th {\n",
       "        vertical-align: top;\n",
       "    }\n",
       "\n",
       "    .dataframe thead th {\n",
       "        text-align: right;\n",
       "    }\n",
       "</style>\n",
       "<table border=\"1\" class=\"dataframe\">\n",
       "  <thead>\n",
       "    <tr style=\"text-align: right;\">\n",
       "      <th></th>\n",
       "      <th>Open</th>\n",
       "      <th>High</th>\n",
       "      <th>Low</th>\n",
       "      <th>Close</th>\n",
       "      <th>Volume</th>\n",
       "      <th>Dividends</th>\n",
       "      <th>Stock Splits</th>\n",
       "    </tr>\n",
       "    <tr>\n",
       "      <th>Date</th>\n",
       "      <th></th>\n",
       "      <th></th>\n",
       "      <th></th>\n",
       "      <th></th>\n",
       "      <th></th>\n",
       "      <th></th>\n",
       "      <th></th>\n",
       "    </tr>\n",
       "  </thead>\n",
       "  <tbody>\n",
       "    <tr>\n",
       "      <th>1986-03-13 00:00:00-05:00</th>\n",
       "      <td>0.054594</td>\n",
       "      <td>0.062623</td>\n",
       "      <td>0.054594</td>\n",
       "      <td>0.059946</td>\n",
       "      <td>1031788800</td>\n",
       "      <td>0.0</td>\n",
       "      <td>0.0</td>\n",
       "    </tr>\n",
       "    <tr>\n",
       "      <th>1986-03-14 00:00:00-05:00</th>\n",
       "      <td>0.059946</td>\n",
       "      <td>0.063158</td>\n",
       "      <td>0.059946</td>\n",
       "      <td>0.062087</td>\n",
       "      <td>308160000</td>\n",
       "      <td>0.0</td>\n",
       "      <td>0.0</td>\n",
       "    </tr>\n",
       "    <tr>\n",
       "      <th>1986-03-17 00:00:00-05:00</th>\n",
       "      <td>0.062087</td>\n",
       "      <td>0.063693</td>\n",
       "      <td>0.062087</td>\n",
       "      <td>0.063158</td>\n",
       "      <td>133171200</td>\n",
       "      <td>0.0</td>\n",
       "      <td>0.0</td>\n",
       "    </tr>\n",
       "    <tr>\n",
       "      <th>1986-03-18 00:00:00-05:00</th>\n",
       "      <td>0.063158</td>\n",
       "      <td>0.063694</td>\n",
       "      <td>0.061017</td>\n",
       "      <td>0.061552</td>\n",
       "      <td>67766400</td>\n",
       "      <td>0.0</td>\n",
       "      <td>0.0</td>\n",
       "    </tr>\n",
       "    <tr>\n",
       "      <th>1986-03-19 00:00:00-05:00</th>\n",
       "      <td>0.061552</td>\n",
       "      <td>0.062087</td>\n",
       "      <td>0.059947</td>\n",
       "      <td>0.060482</td>\n",
       "      <td>47894400</td>\n",
       "      <td>0.0</td>\n",
       "      <td>0.0</td>\n",
       "    </tr>\n",
       "    <tr>\n",
       "      <th>...</th>\n",
       "      <td>...</td>\n",
       "      <td>...</td>\n",
       "      <td>...</td>\n",
       "      <td>...</td>\n",
       "      <td>...</td>\n",
       "      <td>...</td>\n",
       "      <td>...</td>\n",
       "    </tr>\n",
       "    <tr>\n",
       "      <th>2024-12-26 00:00:00-05:00</th>\n",
       "      <td>439.079987</td>\n",
       "      <td>440.940002</td>\n",
       "      <td>436.630005</td>\n",
       "      <td>438.109985</td>\n",
       "      <td>8194200</td>\n",
       "      <td>0.0</td>\n",
       "      <td>0.0</td>\n",
       "    </tr>\n",
       "    <tr>\n",
       "      <th>2024-12-27 00:00:00-05:00</th>\n",
       "      <td>434.600006</td>\n",
       "      <td>435.220001</td>\n",
       "      <td>426.350006</td>\n",
       "      <td>430.529999</td>\n",
       "      <td>18117700</td>\n",
       "      <td>0.0</td>\n",
       "      <td>0.0</td>\n",
       "    </tr>\n",
       "    <tr>\n",
       "      <th>2024-12-30 00:00:00-05:00</th>\n",
       "      <td>426.059998</td>\n",
       "      <td>427.549988</td>\n",
       "      <td>421.899994</td>\n",
       "      <td>424.829987</td>\n",
       "      <td>13158700</td>\n",
       "      <td>0.0</td>\n",
       "      <td>0.0</td>\n",
       "    </tr>\n",
       "    <tr>\n",
       "      <th>2024-12-31 00:00:00-05:00</th>\n",
       "      <td>426.100006</td>\n",
       "      <td>426.730011</td>\n",
       "      <td>420.660004</td>\n",
       "      <td>421.500000</td>\n",
       "      <td>13246500</td>\n",
       "      <td>0.0</td>\n",
       "      <td>0.0</td>\n",
       "    </tr>\n",
       "    <tr>\n",
       "      <th>2025-01-02 00:00:00-05:00</th>\n",
       "      <td>425.529999</td>\n",
       "      <td>426.070007</td>\n",
       "      <td>414.850006</td>\n",
       "      <td>415.929993</td>\n",
       "      <td>7834005</td>\n",
       "      <td>0.0</td>\n",
       "      <td>0.0</td>\n",
       "    </tr>\n",
       "  </tbody>\n",
       "</table>\n",
       "<p>9780 rows × 7 columns</p>\n",
       "</div>"
      ],
      "text/plain": [
       "                                 Open        High         Low       Close  \\\n",
       "Date                                                                        \n",
       "1986-03-13 00:00:00-05:00    0.054594    0.062623    0.054594    0.059946   \n",
       "1986-03-14 00:00:00-05:00    0.059946    0.063158    0.059946    0.062087   \n",
       "1986-03-17 00:00:00-05:00    0.062087    0.063693    0.062087    0.063158   \n",
       "1986-03-18 00:00:00-05:00    0.063158    0.063694    0.061017    0.061552   \n",
       "1986-03-19 00:00:00-05:00    0.061552    0.062087    0.059947    0.060482   \n",
       "...                               ...         ...         ...         ...   \n",
       "2024-12-26 00:00:00-05:00  439.079987  440.940002  436.630005  438.109985   \n",
       "2024-12-27 00:00:00-05:00  434.600006  435.220001  426.350006  430.529999   \n",
       "2024-12-30 00:00:00-05:00  426.059998  427.549988  421.899994  424.829987   \n",
       "2024-12-31 00:00:00-05:00  426.100006  426.730011  420.660004  421.500000   \n",
       "2025-01-02 00:00:00-05:00  425.529999  426.070007  414.850006  415.929993   \n",
       "\n",
       "                               Volume  Dividends  Stock Splits  \n",
       "Date                                                            \n",
       "1986-03-13 00:00:00-05:00  1031788800        0.0           0.0  \n",
       "1986-03-14 00:00:00-05:00   308160000        0.0           0.0  \n",
       "1986-03-17 00:00:00-05:00   133171200        0.0           0.0  \n",
       "1986-03-18 00:00:00-05:00    67766400        0.0           0.0  \n",
       "1986-03-19 00:00:00-05:00    47894400        0.0           0.0  \n",
       "...                               ...        ...           ...  \n",
       "2024-12-26 00:00:00-05:00     8194200        0.0           0.0  \n",
       "2024-12-27 00:00:00-05:00    18117700        0.0           0.0  \n",
       "2024-12-30 00:00:00-05:00    13158700        0.0           0.0  \n",
       "2024-12-31 00:00:00-05:00    13246500        0.0           0.0  \n",
       "2025-01-02 00:00:00-05:00     7834005        0.0           0.0  \n",
       "\n",
       "[9780 rows x 7 columns]"
      ]
     },
     "execution_count": 8,
     "metadata": {},
     "output_type": "execute_result"
    }
   ],
   "source": [
    "historical_prices"
   ]
  },
  {
   "cell_type": "code",
   "execution_count": 9,
   "id": "23da0ed5",
   "metadata": {},
   "outputs": [
    {
     "data": {
      "text/plain": [
       "Date\n",
       "2003-02-19 00:00:00-05:00    0.08\n",
       "2003-10-15 00:00:00-04:00    0.16\n",
       "2004-08-23 00:00:00-04:00    0.08\n",
       "2004-11-15 00:00:00-05:00    3.08\n",
       "2005-02-15 00:00:00-05:00    0.08\n",
       "                             ... \n",
       "2023-08-16 00:00:00-04:00    0.68\n",
       "2023-11-15 00:00:00-05:00    0.75\n",
       "2024-02-14 00:00:00-05:00    0.75\n",
       "2024-05-15 00:00:00-04:00    0.75\n",
       "2024-08-15 00:00:00-04:00    0.75\n",
       "Name: Dividends, Length: 83, dtype: float64"
      ]
     },
     "execution_count": 9,
     "metadata": {},
     "output_type": "execute_result"
    }
   ],
   "source": [
    "msft_ticker.dividends"
   ]
  },
  {
   "cell_type": "code",
   "execution_count": 10,
   "id": "69554443",
   "metadata": {},
   "outputs": [
    {
     "data": {
      "text/plain": [
       "Date\n",
       "1987-09-21 00:00:00-04:00    2.0\n",
       "1990-04-16 00:00:00-04:00    2.0\n",
       "1991-06-27 00:00:00-04:00    1.5\n",
       "1992-06-15 00:00:00-04:00    1.5\n",
       "1994-05-23 00:00:00-04:00    2.0\n",
       "1996-12-09 00:00:00-05:00    2.0\n",
       "1998-02-23 00:00:00-05:00    2.0\n",
       "1999-03-29 00:00:00-05:00    2.0\n",
       "2003-02-18 00:00:00-05:00    2.0\n",
       "Name: Stock Splits, dtype: float64"
      ]
     },
     "execution_count": 10,
     "metadata": {},
     "output_type": "execute_result"
    }
   ],
   "source": [
    "msft_ticker.splits"
   ]
  },
  {
   "cell_type": "code",
   "execution_count": 11,
   "id": "58cea95a",
   "metadata": {},
   "outputs": [
    {
     "data": {
      "image/png": "[encoded data removed]",
      "text/plain": [
       "<Figure size 640x480 with 1 Axes>"
      ]
     },
     "metadata": {},
     "output_type": "display_data"
    }
   ],
   "source": [
    "msft_ticker.history(period='max')['Dividends'].plot()\n",
    "plt.ylabel(\"$\")\n",
    "plt.xlabel(\"Year\")\n",
    "plt.show()"
   ]
  },
  {
   "cell_type": "code",
   "execution_count": null,
   "id": "9070f332",
   "metadata": {},
   "outputs": [],
   "source": [
    "msft_ticker.cashflow"
   ]
  },
  {
   "cell_type": "code",
   "execution_count": null,
   "id": "c93a683e",
   "metadata": {},
   "outputs": [],
   "source": [
    "msft['Close'].plot(title='MSFT Closing Prices')\n",
    "plt.ylabel(\"$\")\n",
    "plt.xlabel(\"Year\")\n",
    "plt.show()"
   ]
  },
  {
   "cell_type": "code",
   "execution_count": null,
   "id": "385e09ce",
   "metadata": {},
   "outputs": [],
   "source": []
  }
 ],
 "metadata": {
  "kernelspec": {
   "display_name": "Python 3 (ipykernel)",
   "language": "python",
   "name": "python3"
  },
  "language_info": {
   "codemirror_mode": {
    "name": "ipython",
    "version": 3
   },
   "file_extension": ".py",
   "mimetype": "text/x-python",
   "name": "python",
   "nbconvert_exporter": "python",
   "pygments_lexer": "ipython3",
   "version": "3.9.13"
  }
 },
 "nbformat": 4,
 "nbformat_minor": 5
}
