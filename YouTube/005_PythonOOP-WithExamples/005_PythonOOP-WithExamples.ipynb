{
 "cells": [
  {
   "cell_type": "code",
   "execution_count": 1,
   "id": "3110d0f6",
   "metadata": {},
   "outputs": [],
   "source": [
    "# code from Python Workout book \n",
    "# https://www.manning.com/books/python-workout"
   ]
  },
  {
   "cell_type": "code",
   "execution_count": 2,
   "id": "37e7b6e8",
   "metadata": {},
   "outputs": [],
   "source": [
    "# Exercise 43\n",
    "\n",
    "class Animal():\n",
    "    def __init__(self, color, number_of_legs):\n",
    "        self.species = self.__class__.__name__.lower()\n",
    "        self.color = color\n",
    "        self.number_of_legs = number_of_legs\n",
    "        \n",
    "    def __repr__(self):\n",
    "        return f'{self.color} {self.species}, {self.number_of_legs} legs'\n",
    "\n",
    "class Sheep(Animal):\n",
    "    def __init__(sef, color):\n",
    "        super().__init__(color, 4)\n",
    "\n",
    "class Wolf(Animal):\n",
    "    def __init__(sef, color):\n",
    "        super().__init__(color, 4)\n",
    "\n",
    "class Parrot(Animal):\n",
    "    def __init__(sef, color):\n",
    "        super().__init__(color, 2)\n",
    "\n",
    "class Snake(Animal):\n",
    "    def __init__(sef, color):\n",
    "        super().__init__(color, 0)"
   ]
  },
  {
   "cell_type": "code",
   "execution_count": 3,
   "id": "848410bb",
   "metadata": {},
   "outputs": [],
   "source": [
    "# Exercise 44\n",
    "\n",
    "class Cage():\n",
    "    def __init__(self, id_num):\n",
    "        self.id_number = id_num\n",
    "        self.animals = []\n",
    "        \n",
    "    def add_animals(self, *animals):\n",
    "        for animal in animals:\n",
    "            self.animals.append(animal)\n",
    "        \n",
    "    def __repr__(self):\n",
    "        text = f'{self.__class__.__name__} {self.id_number}: '\n",
    "        text += '; '.join(str(animal) for animal in self.animals)\n",
    "        return text"
   ]
  },
  {
   "cell_type": "code",
   "execution_count": 4,
   "id": "26dcc8b6",
   "metadata": {},
   "outputs": [],
   "source": [
    "# Exercise 45\n",
    "\n",
    "class Zoo():\n",
    "    def __init__(self):\n",
    "        self.cages = []\n",
    "    \n",
    "    def add_cages(self, *cages):\n",
    "        for cage in cages:\n",
    "            self.cages.append(cage)\n",
    "    \n",
    "    def animals_by_color(self, filtered_color):\n",
    "        return [animal\n",
    "                for cage in self.cages\n",
    "                for animal in cage.animals \n",
    "                if animal.color == filtered_color]\n",
    "    \n",
    "    def animals_by_legs(self, filter_number_of_legs):\n",
    "        return [animal\n",
    "                for cage in self.cages\n",
    "                for animal in cage.animals \n",
    "                if animal.number_of_legs == filter_number_of_legs]\n",
    "    \n",
    "    def number_of_legs(self):\n",
    "        return sum(animal.number_of_legs\n",
    "                for cage in self.cages\n",
    "                for animal in cage.animals \n",
    "                )\n",
    "    \n",
    "    def __repr__(self):\n",
    "        return f'\\n'.join(str(cage) for cage in self.cages)"
   ]
  },
  {
   "cell_type": "code",
   "execution_count": 5,
   "id": "6a79477a",
   "metadata": {},
   "outputs": [
    {
     "name": "stdout",
     "output_type": "stream",
     "text": [
      "True\n",
      "True\n",
      "True\n",
      "True\n",
      "False\n",
      "[]\n",
      "[white sheep, 4 legs, white sheep, 4 legs, white sheep, 4 legs, white sheep, 4 legs, white sheep, 4 legs, white sheep, 4 legs, white sheep, 4 legs, white sheep, 4 legs]\n",
      "32\n"
     ]
    }
   ],
   "source": [
    "# Tests 43, 44, 45\n",
    "\n",
    "s = Sheep('white')\n",
    "print(s.species == 'sheep')\n",
    "print(s.color == 'white')\n",
    "print(s.number_of_legs == 4)\n",
    "print(str(s) == 'white sheep, 4 legs')\n",
    "\n",
    "wolf = Wolf('black')\n",
    "sheep = Sheep('white')\n",
    "snake = Snake('brown')\n",
    "parrot = Parrot('green')\n",
    "\n",
    "c1 = Cage(1)\n",
    "c1.add_animals(sheep, sheep, sheep, sheep)\n",
    "print(str(c1) == 'Cage 1: black wolf, 4 legs; white sheep, 4 legs; brown snake, 0 legs; green parrot, 2 legs')\n",
    "\n",
    "c2 = Cage(2)\n",
    "c2.add_animals(sheep, sheep, sheep, sheep)\n",
    "\n",
    "z = Zoo()\n",
    "z.add_cages(c1, c2)\n",
    "print(z.animals_by_color('black'))\n",
    "print(z.animals_by_legs(4))\n",
    "print(z.number_of_legs())"
   ]
  }
 ],
 "metadata": {
  "kernelspec": {
   "display_name": "Python 3 (ipykernel)",
   "language": "python",
   "name": "python3"
  },
  "language_info": {
   "codemirror_mode": {
    "name": "ipython",
    "version": 3
   },
   "file_extension": ".py",
   "mimetype": "text/x-python",
   "name": "python",
   "nbconvert_exporter": "python",
   "pygments_lexer": "ipython3",
   "version": "3.9.13"
  }
 },
 "nbformat": 4,
 "nbformat_minor": 5
}
