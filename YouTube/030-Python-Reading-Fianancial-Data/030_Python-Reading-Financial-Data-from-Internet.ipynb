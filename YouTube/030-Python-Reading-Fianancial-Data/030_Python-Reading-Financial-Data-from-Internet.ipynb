{
 "cells": [
  {
   "cell_type": "code",
   "execution_count": 22,
   "id": "bb2dab8e",
   "metadata": {},
   "outputs": [],
   "source": [
    "import numpy as np\n",
    "import pandas as pd\n",
    "import yfinance as yf\n",
    "import requests\n",
    "from datetime import datetime"
   ]
  },
  {
   "cell_type": "code",
   "execution_count": 37,
   "id": "a4716cb2",
   "metadata": {},
   "outputs": [
    {
     "data": {
      "text/plain": [
       "{'symbol': 'MNST',\n",
       " 'sector': '',\n",
       " 'companyName': 'Monster Beverage Corporation',\n",
       " 'marketCap': '56,452,947,557',\n",
       " 'lastSalePrice': '$58.31',\n",
       " 'netChange': '$3.30',\n",
       " 'percentageChange': '+6.00%',\n",
       " 'deltaIndicator': 'up'}"
      ]
     },
     "execution_count": 37,
     "metadata": {},
     "output_type": "execute_result"
    }
   ],
   "source": [
    "data[\"data\"][\"data\"][\"rows\"][12]"
   ]
  },
  {
   "cell_type": "code",
   "execution_count": 98,
   "id": "9c104f65",
   "metadata": {},
   "outputs": [],
   "source": [
    "def get_nasdaq_tickers_from_api():\n",
    "    headers={\n",
    "        \"User-Agent\":\"Mozilla/5.0\",\n",
    "        \"Accept\":\"application/json\"\n",
    "    }\n",
    "\n",
    "    url = \"https://api.nasdaq.com/api/quote/list-type/nasdaq100\"\n",
    "    response = requests.get(url, headers=headers, timeout=10)\n",
    "    tickers = [item[\"symbol\"] for item in data[\"data\"][\"data\"][\"rows\"]]\n",
    "    return tickers "
   ]
  },
  {
   "cell_type": "code",
   "execution_count": 99,
   "id": "e1dac34b",
   "metadata": {},
   "outputs": [],
   "source": [
    "def get_nasdaq_tickers_from_wikipedia():\n",
    "    wiki_url = \"https://en.wikipedia.org/wiki/Nasdaq-100\"\n",
    "    tables = pd.read_html(wiki_url)\n",
    "    components_table=tables[4]\n",
    "    tickers=components_table[\"Ticker\"].tolist()\n",
    "    return tickers"
   ]
  },
  {
   "cell_type": "code",
   "execution_count": 94,
   "id": "a5c11a9e",
   "metadata": {
    "scrolled": true
   },
   "outputs": [],
   "source": [
    "api_tickers = get_nasdaq_tickers_from_api()\n",
    "wiki_tickers = get_nasdaq_tickers_from_wikipedia()"
   ]
  },
  {
   "cell_type": "code",
   "execution_count": 95,
   "id": "b8ca0902",
   "metadata": {},
   "outputs": [],
   "source": [
    "only_in_wiki = set(wiki_tickers)- set(api_tickers)\n",
    "only_in_api = set(api_tickers) - set(wiki_tickers)"
   ]
  }
 ],
 "metadata": {
  "kernelspec": {
   "display_name": "Python (stock_analysis_env)",
   "language": "python",
   "name": "stock_analysis_env"
  },
  "language_info": {
   "codemirror_mode": {
    "name": "ipython",
    "version": 3
   },
   "file_extension": ".py",
   "mimetype": "text/x-python",
   "name": "python",
   "nbconvert_exporter": "python",
   "pygments_lexer": "ipython3",
   "version": "3.9.13"
  }
 },
 "nbformat": 4,
 "nbformat_minor": 5
}
