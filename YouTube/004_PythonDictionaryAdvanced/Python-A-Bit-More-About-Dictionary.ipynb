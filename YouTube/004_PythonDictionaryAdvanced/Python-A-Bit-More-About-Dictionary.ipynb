{
 "cells": [
  {
   "cell_type": "markdown",
   "id": "7917decc",
   "metadata": {},
   "source": [
    "# Python Dictionary"
   ]
  },
  {
   "cell_type": "code",
   "execution_count": 1,
   "id": "51bd1270",
   "metadata": {},
   "outputs": [],
   "source": [
    "my_dict = dict()"
   ]
  },
  {
   "cell_type": "code",
   "execution_count": 39,
   "id": "3a95b84b",
   "metadata": {},
   "outputs": [],
   "source": [
    "my_dict = {\n",
    "    'Argentina':'Buenos Aires',\n",
    "    'Bulgaria':'Sofia',\n",
    "    'Chile':'Santiago',\n",
    "    'Denmark':'Copenhagen'}"
   ]
  },
  {
   "cell_type": "code",
   "execution_count": 13,
   "id": "16cd4538",
   "metadata": {},
   "outputs": [
    {
     "data": {
      "text/plain": [
       "'Copenhagen'"
      ]
     },
     "execution_count": 13,
     "metadata": {},
     "output_type": "execute_result"
    }
   ],
   "source": [
    "my_dict[(5,5)]"
   ]
  },
  {
   "cell_type": "code",
   "execution_count": 10,
   "id": "069c4d82",
   "metadata": {},
   "outputs": [
    {
     "data": {
      "text/plain": [
       "dict"
      ]
     },
     "execution_count": 10,
     "metadata": {},
     "output_type": "execute_result"
    }
   ],
   "source": [
    "type(my_dict)"
   ]
  },
  {
   "cell_type": "code",
   "execution_count": 38,
   "id": "f108051f",
   "metadata": {},
   "outputs": [
    {
     "data": {
      "text/plain": [
       "{'Bulgaria': 'Sofia'}"
      ]
     },
     "execution_count": 38,
     "metadata": {},
     "output_type": "execute_result"
    }
   ],
   "source": [
    "my_dict"
   ]
  },
  {
   "cell_type": "code",
   "execution_count": 19,
   "id": "f4c9d09c",
   "metadata": {},
   "outputs": [
    {
     "data": {
      "text/plain": [
       "'Not available'"
      ]
     },
     "execution_count": 19,
     "metadata": {},
     "output_type": "execute_result"
    }
   ],
   "source": [
    "my_dict.get('Argentina2', 'Not available')"
   ]
  },
  {
   "cell_type": "code",
   "execution_count": 20,
   "id": "5a7c5a2a",
   "metadata": {},
   "outputs": [
    {
     "data": {
      "text/plain": [
       "dict_items([('Argentina', 'Buenos Aires'), ('Bulgaria', 'Sofia'), ('Chile', 'Santiago'), ('Denmark', 'Copenhagen')])"
      ]
     },
     "execution_count": 20,
     "metadata": {},
     "output_type": "execute_result"
    }
   ],
   "source": [
    "my_dict.items()"
   ]
  },
  {
   "cell_type": "code",
   "execution_count": 21,
   "id": "494ab95c",
   "metadata": {},
   "outputs": [
    {
     "data": {
      "text/plain": [
       "[('Argentina', 'Buenos Aires'),\n",
       " ('Bulgaria', 'Sofia'),\n",
       " ('Chile', 'Santiago'),\n",
       " ('Denmark', 'Copenhagen')]"
      ]
     },
     "execution_count": 21,
     "metadata": {},
     "output_type": "execute_result"
    }
   ],
   "source": [
    "list(my_dict.items())"
   ]
  },
  {
   "cell_type": "code",
   "execution_count": 28,
   "id": "157ffbcb",
   "metadata": {},
   "outputs": [
    {
     "data": {
      "text/plain": [
       "[('Chile', 'Santiago'), ('Denmark', 'Copenhagen')]"
      ]
     },
     "execution_count": 28,
     "metadata": {},
     "output_type": "execute_result"
    }
   ],
   "source": [
    "list(my_dict.items())[2:]"
   ]
  },
  {
   "cell_type": "code",
   "execution_count": 30,
   "id": "27ef6afd",
   "metadata": {},
   "outputs": [
    {
     "data": {
      "text/plain": [
       "['Argentina', 'Bulgaria', 'Chile', 'Denmark']"
      ]
     },
     "execution_count": 30,
     "metadata": {},
     "output_type": "execute_result"
    }
   ],
   "source": [
    "list(my_dict.keys())"
   ]
  },
  {
   "cell_type": "code",
   "execution_count": 31,
   "id": "b63dbffe",
   "metadata": {},
   "outputs": [
    {
     "data": {
      "text/plain": [
       "['Buenos Aires', 'Sofia', 'Santiago', 'Copenhagen']"
      ]
     },
     "execution_count": 31,
     "metadata": {},
     "output_type": "execute_result"
    }
   ],
   "source": [
    "list(my_dict.values())"
   ]
  },
  {
   "cell_type": "code",
   "execution_count": 33,
   "id": "fc2e4696",
   "metadata": {},
   "outputs": [
    {
     "data": {
      "text/plain": [
       "'Buenos Aires'"
      ]
     },
     "execution_count": 33,
     "metadata": {},
     "output_type": "execute_result"
    }
   ],
   "source": [
    "my_dict.pop('Argentina')"
   ]
  },
  {
   "cell_type": "code",
   "execution_count": 34,
   "id": "2fbd39c8",
   "metadata": {},
   "outputs": [
    {
     "data": {
      "text/plain": [
       "{'Bulgaria': 'Sofia', 'Chile': 'Santiago', 'Denmark': 'Copenhagen'}"
      ]
     },
     "execution_count": 34,
     "metadata": {},
     "output_type": "execute_result"
    }
   ],
   "source": [
    "my_dict"
   ]
  },
  {
   "cell_type": "code",
   "execution_count": 36,
   "id": "941db234",
   "metadata": {},
   "outputs": [
    {
     "data": {
      "text/plain": [
       "('Chile', 'Santiago')"
      ]
     },
     "execution_count": 36,
     "metadata": {},
     "output_type": "execute_result"
    }
   ],
   "source": [
    "my_dict.popitem()"
   ]
  },
  {
   "cell_type": "code",
   "execution_count": 40,
   "id": "2b54a11a",
   "metadata": {},
   "outputs": [
    {
     "data": {
      "text/plain": [
       "{'Argentina': 'Buenos Aires',\n",
       " 'Bulgaria': 'Sofia',\n",
       " 'Chile': 'Santiago',\n",
       " 'Denmark': 'Copenhagen'}"
      ]
     },
     "execution_count": 40,
     "metadata": {},
     "output_type": "execute_result"
    }
   ],
   "source": [
    "my_dict"
   ]
  },
  {
   "cell_type": "code",
   "execution_count": 41,
   "id": "38f63281",
   "metadata": {},
   "outputs": [],
   "source": [
    "my_dict.update({'Greece':'Athens'})"
   ]
  },
  {
   "cell_type": "code",
   "execution_count": 44,
   "id": "6a0af466",
   "metadata": {},
   "outputs": [
    {
     "data": {
      "text/plain": [
       "{'Argentina': 'Buenos Aires',\n",
       " 'Bulgaria': 'Sofia',\n",
       " 'Chile': 'Santiago de Chile',\n",
       " 'Denmark': 'Copenhagen',\n",
       " 'Greece': 'Athens'}"
      ]
     },
     "execution_count": 44,
     "metadata": {},
     "output_type": "execute_result"
    }
   ],
   "source": [
    "my_dict"
   ]
  },
  {
   "cell_type": "code",
   "execution_count": 43,
   "id": "26d4d834",
   "metadata": {},
   "outputs": [],
   "source": [
    "my_dict.update({'Chile':'Santiago de Chile'})"
   ]
  },
  {
   "cell_type": "code",
   "execution_count": 45,
   "id": "98df5929",
   "metadata": {},
   "outputs": [
    {
     "data": {
      "text/plain": [
       "{'a': None, 'b': None, 'c': None, 'd': None, 'e': None, 'f': None}"
      ]
     },
     "execution_count": 45,
     "metadata": {},
     "output_type": "execute_result"
    }
   ],
   "source": [
    "dict.fromkeys('abcdef')"
   ]
  },
  {
   "cell_type": "code",
   "execution_count": 48,
   "id": "397cab28",
   "metadata": {},
   "outputs": [
    {
     "data": {
      "text/plain": [
       "{'a': [5, 1, 2, 3, 56, 4],\n",
       " 'b': [5, 1, 2, 3, 56, 4],\n",
       " 'c': [5, 1, 2, 3, 56, 4],\n",
       " 'd': [5, 1, 2, 3, 56, 4],\n",
       " 'e': [5, 1, 2, 3, 56, 4],\n",
       " 'f': [5, 1, 2, 3, 56, 4]}"
      ]
     },
     "execution_count": 48,
     "metadata": {},
     "output_type": "execute_result"
    }
   ],
   "source": [
    "dict.fromkeys('abcdef',[5,1,2,3,56,4])"
   ]
  },
  {
   "cell_type": "code",
   "execution_count": 49,
   "id": "dfb11460",
   "metadata": {},
   "outputs": [
    {
     "ename": "KeyError",
     "evalue": "'Germany'",
     "output_type": "error",
     "traceback": [
      "\u001b[1;31m---------------------------------------------------------------------------\u001b[0m",
      "\u001b[1;31mKeyError\u001b[0m                                  Traceback (most recent call last)",
      "\u001b[1;32m~\\AppData\\Local\\Temp\\ipykernel_17308\\211571084.py\u001b[0m in \u001b[0;36m<module>\u001b[1;34m\u001b[0m\n\u001b[1;32m----> 1\u001b[1;33m \u001b[0mmy_dict\u001b[0m\u001b[1;33m[\u001b[0m\u001b[1;34m'Germany'\u001b[0m\u001b[1;33m]\u001b[0m\u001b[1;33m\u001b[0m\u001b[1;33m\u001b[0m\u001b[0m\n\u001b[0m",
      "\u001b[1;31mKeyError\u001b[0m: 'Germany'"
     ]
    }
   ],
   "source": [
    "my_dict['Germany']"
   ]
  },
  {
   "cell_type": "code",
   "execution_count": 66,
   "id": "60a527b5",
   "metadata": {},
   "outputs": [],
   "source": [
    "from collections import defaultdict"
   ]
  },
  {
   "cell_type": "code",
   "execution_count": 70,
   "id": "7104fafd",
   "metadata": {},
   "outputs": [],
   "source": [
    "my_new_dict = defaultdict(int)"
   ]
  },
  {
   "cell_type": "code",
   "execution_count": 71,
   "id": "f5a330ae",
   "metadata": {},
   "outputs": [
    {
     "data": {
      "text/plain": [
       "0"
      ]
     },
     "execution_count": 71,
     "metadata": {},
     "output_type": "execute_result"
    }
   ],
   "source": [
    "my_new_dict['Germany']"
   ]
  },
  {
   "cell_type": "code",
   "execution_count": 113,
   "id": "89f3f345",
   "metadata": {},
   "outputs": [],
   "source": [
    "def default_dict_result():\n",
    "    return 'No such value in the dictionary, sorry.'"
   ]
  },
  {
   "cell_type": "code",
   "execution_count": 118,
   "id": "6519e81e",
   "metadata": {},
   "outputs": [],
   "source": [
    "third_dictionary = FlexibleDict()"
   ]
  },
  {
   "cell_type": "code",
   "execution_count": 119,
   "id": "625f33b4",
   "metadata": {},
   "outputs": [],
   "source": [
    "third_dictionary[1] = \"integer 1\""
   ]
  },
  {
   "cell_type": "code",
   "execution_count": 120,
   "id": "05a9ad0c",
   "metadata": {},
   "outputs": [],
   "source": [
    "#third_dictionary['1'] = \"string 1\""
   ]
  },
  {
   "cell_type": "code",
   "execution_count": 122,
   "id": "fa7d1336",
   "metadata": {},
   "outputs": [
    {
     "name": "stdout",
     "output_type": "stream",
     "text": [
      "in the dictionary it is a int!\n"
     ]
    },
    {
     "data": {
      "text/plain": [
       "'integer 1'"
      ]
     },
     "execution_count": 122,
     "metadata": {},
     "output_type": "execute_result"
    }
   ],
   "source": [
    "third_dictionary['1']"
   ]
  },
  {
   "cell_type": "code",
   "execution_count": 123,
   "id": "905ea288",
   "metadata": {},
   "outputs": [],
   "source": [
    "# Code is from EXERCISE 42 - FlexibleDict - Python Workout - Author Lerner - Manning\n",
    "# https://www.manning.com/books/python-workout\n",
    "\n",
    "class FlexibleDict(dict):\n",
    "    def __getitem__(self, key):\n",
    "        try:\n",
    "            if key in self:\n",
    "                pass\n",
    "            elif str(key) in self:\n",
    "                key = str(key)\n",
    "                print('in the dictionary it is a str!')\n",
    "            elif int(key) in self:\n",
    "                key = int(key)\n",
    "                print('in the dictionary it is a int!')\n",
    "        except ValueError:\n",
    "            pass\n",
    "        return dict.__getitem__(self, key)"
   ]
  }
 ],
 "metadata": {
  "kernelspec": {
   "display_name": "Python 3 (ipykernel)",
   "language": "python",
   "name": "python3"
  },
  "language_info": {
   "codemirror_mode": {
    "name": "ipython",
    "version": 3
   },
   "file_extension": ".py",
   "mimetype": "text/x-python",
   "name": "python",
   "nbconvert_exporter": "python",
   "pygments_lexer": "ipython3",
   "version": "3.9.13"
  }
 },
 "nbformat": 4,
 "nbformat_minor": 5
}
