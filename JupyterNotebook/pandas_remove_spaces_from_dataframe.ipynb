{
 "cells": [
  {
   "cell_type": "code",
   "execution_count": 1,
   "id": "0e5cbaf8",
   "metadata": {},
   "outputs": [],
   "source": [
    "import pandas as pd"
   ]
  },
  {
   "cell_type": "code",
   "execution_count": 2,
   "id": "8b289b76",
   "metadata": {},
   "outputs": [],
   "source": [
    "# 1. Remove spaces in dataframe columns.\n",
    "\n",
    "salary_data = {\n",
    "    \"people\":['John', 'Peter', 'Sam'],\n",
    "    \"salary\":[' 50 ', '   40 ', '33     ']\n",
    "}"
   ]
  },
  {
   "cell_type": "code",
   "execution_count": 3,
   "id": "ee17b14c",
   "metadata": {},
   "outputs": [
    {
     "name": "stdout",
     "output_type": "stream",
     "text": [
      "  people   salary\n",
      "0   John      50 \n",
      "1  Peter      40 \n",
      "2    Sam  33     \n"
     ]
    }
   ],
   "source": [
    "salary = pd.DataFrame(salary_data)\n",
    "print(salary)"
   ]
  },
  {
   "cell_type": "code",
   "execution_count": 4,
   "id": "e5a97f3c",
   "metadata": {},
   "outputs": [],
   "source": [
    "def whitespace_remover(df):\n",
    "    for i in df.columns:\n",
    "        if df[i].dtype == 'object':\n",
    "            df[i] = df[i].map(str.strip)\n",
    "    return df"
   ]
  },
  {
   "cell_type": "code",
   "execution_count": 5,
   "id": "0f4d9169",
   "metadata": {},
   "outputs": [
    {
     "name": "stdout",
     "output_type": "stream",
     "text": [
      "  people salary\n",
      "0   John     50\n",
      "1  Peter     40\n",
      "2    Sam     33\n"
     ]
    }
   ],
   "source": [
    "salary = whitespace_remover(salary)\n",
    "print(salary)"
   ]
  },
  {
   "cell_type": "code",
   "execution_count": 6,
   "id": "73401062",
   "metadata": {},
   "outputs": [
    {
     "name": "stdout",
     "output_type": "stream",
     "text": [
      "  people   salary\n",
      "0   John      50 \n",
      "1  Peter     None\n",
      "2    Sam  33     \n"
     ]
    }
   ],
   "source": [
    "# 2. Remove `None` values from dataframe rows.\n",
    "salary_data = {\n",
    "    \"people\":['John', 'Peter', 'Sam'],\n",
    "    \"salary\":[' 50 ', None, '33     ']\n",
    "}\n",
    "salary = pd.DataFrame(salary_data)\n",
    "print(salary)"
   ]
  },
  {
   "cell_type": "code",
   "execution_count": 7,
   "id": "58680b8f",
   "metadata": {},
   "outputs": [
    {
     "data": {
      "text/html": [
       "<div>\n",
       "<style scoped>\n",
       "    .dataframe tbody tr th:only-of-type {\n",
       "        vertical-align: middle;\n",
       "    }\n",
       "\n",
       "    .dataframe tbody tr th {\n",
       "        vertical-align: top;\n",
       "    }\n",
       "\n",
       "    .dataframe thead th {\n",
       "        text-align: right;\n",
       "    }\n",
       "</style>\n",
       "<table border=\"1\" class=\"dataframe\">\n",
       "  <thead>\n",
       "    <tr style=\"text-align: right;\">\n",
       "      <th></th>\n",
       "      <th>people</th>\n",
       "      <th>salary</th>\n",
       "    </tr>\n",
       "  </thead>\n",
       "  <tbody>\n",
       "    <tr>\n",
       "      <th>1</th>\n",
       "      <td>Peter</td>\n",
       "      <td>None</td>\n",
       "    </tr>\n",
       "  </tbody>\n",
       "</table>\n",
       "</div>"
      ],
      "text/plain": [
       "  people salary\n",
       "1  Peter   None"
      ]
     },
     "execution_count": 7,
     "metadata": {},
     "output_type": "execute_result"
    }
   ],
   "source": [
    "salary_none = salary[salary.isna().any(axis=1)]\n",
    "salary_none"
   ]
  },
  {
   "cell_type": "code",
   "execution_count": 8,
   "id": "a81d81f1",
   "metadata": {},
   "outputs": [
    {
     "data": {
      "text/html": [
       "<div>\n",
       "<style scoped>\n",
       "    .dataframe tbody tr th:only-of-type {\n",
       "        vertical-align: middle;\n",
       "    }\n",
       "\n",
       "    .dataframe tbody tr th {\n",
       "        vertical-align: top;\n",
       "    }\n",
       "\n",
       "    .dataframe thead th {\n",
       "        text-align: right;\n",
       "    }\n",
       "</style>\n",
       "<table border=\"1\" class=\"dataframe\">\n",
       "  <thead>\n",
       "    <tr style=\"text-align: right;\">\n",
       "      <th></th>\n",
       "      <th>people</th>\n",
       "      <th>salary</th>\n",
       "    </tr>\n",
       "  </thead>\n",
       "  <tbody>\n",
       "    <tr>\n",
       "      <th>0</th>\n",
       "      <td>John</td>\n",
       "      <td>50</td>\n",
       "    </tr>\n",
       "    <tr>\n",
       "      <th>2</th>\n",
       "      <td>Sam</td>\n",
       "      <td>33</td>\n",
       "    </tr>\n",
       "  </tbody>\n",
       "</table>\n",
       "</div>"
      ],
      "text/plain": [
       "  people   salary\n",
       "0   John      50 \n",
       "2    Sam  33     "
      ]
     },
     "execution_count": 8,
     "metadata": {},
     "output_type": "execute_result"
    }
   ],
   "source": [
    "salary_without_none = salary.dropna()\n",
    "salary_without_none"
   ]
  },
  {
   "cell_type": "code",
   "execution_count": 9,
   "id": "c5ab8da9",
   "metadata": {},
   "outputs": [
    {
     "name": "stdout",
     "output_type": "stream",
     "text": [
      "     people  salary\n",
      "0      John      50\n",
      "1     Peter      44\n",
      "2       Sam      33\n",
      "3    Vitosh     101\n",
      "4  Karolina     230\n"
     ]
    }
   ],
   "source": [
    "# 3. Filter dataframes, based on values.\n",
    "\n",
    "salary_data = {\n",
    "    \"people\":['John', 'Peter', 'Sam', 'Vitosh', 'Karolina'],\n",
    "    \"salary\":[50,44, 33, 101, 230]\n",
    "}\n",
    "salary = pd.DataFrame(salary_data)\n",
    "print(salary)"
   ]
  },
  {
   "cell_type": "code",
   "execution_count": 10,
   "id": "8c53ce86",
   "metadata": {},
   "outputs": [],
   "source": [
    "salary_above_100 = salary.loc[salary['salary']>100]\n",
    "salary_below_100 = salary.loc[salary['salary']<100]"
   ]
  },
  {
   "cell_type": "code",
   "execution_count": 11,
   "id": "d6664e39",
   "metadata": {},
   "outputs": [
    {
     "name": "stdout",
     "output_type": "stream",
     "text": [
      "     people  salary\n",
      "3    Vitosh     101\n",
      "4  Karolina     230\n"
     ]
    }
   ],
   "source": [
    "print(salary_above_100)"
   ]
  },
  {
   "cell_type": "code",
   "execution_count": 12,
   "id": "90bfdc00",
   "metadata": {},
   "outputs": [
    {
     "name": "stdout",
     "output_type": "stream",
     "text": [
      "  people  salary\n",
      "0   John      50\n",
      "1  Peter      44\n",
      "2    Sam      33\n"
     ]
    }
   ],
   "source": [
    "print(salary_below_100)"
   ]
  }
 ],
 "metadata": {
  "kernelspec": {
   "display_name": "Python 3 (ipykernel)",
   "language": "python",
   "name": "python3"
  },
  "language_info": {
   "codemirror_mode": {
    "name": "ipython",
    "version": 3
   },
   "file_extension": ".py",
   "mimetype": "text/x-python",
   "name": "python",
   "nbconvert_exporter": "python",
   "pygments_lexer": "ipython3",
   "version": "3.9.13"
  }
 },
 "nbformat": 4,
 "nbformat_minor": 5
}
